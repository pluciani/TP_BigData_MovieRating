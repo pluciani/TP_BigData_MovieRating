{
 "cells": [
  {
   "cell_type": "code",
   "execution_count": null,
   "id": "c3d637f5",
   "metadata": {},
   "outputs": [],
   "source": [
    "from pyspark.sql import SparkSession\n",
    "\n",
    "spark = SparkSession.builder \\n",
    "    .appName(\"KafkaSparkDemo\") \\n",
    "    .master(\"local[*]\") \\n",
    "    .config(\"spark.jars.packages\", \"org.apache.spark:spark-sql-kafka-0-10_2.13:3.5.1\") \\n",
    "    .getOrCreate()\n",
    "\n",
    "df = spark.readStream \\n",
    "    .format(\"kafka\") \\n",
    "    .option(\"kafka.bootstrap.servers\", \"localhost:9092\") \\n",
    "    .option(\"subscribe\", \"test-topic\") \\n",
    "    .load()\n",
    "\n",
    "df_parsed = df.selectExpr(\"CAST(key AS STRING)\", \"CAST(value AS STRING)\")\n",
    "\n",
    "query = df_parsed.writeStream \\n",
    "    .outputMode(\"append\") \\n",
    "    .format(\"console\") \\n",
    "    .start()\n",
    "\n",
    "query.awaitTermination()"
   ]
  }
 ],
 "metadata": {},
 "nbformat": 4,
 "nbformat_minor": 5
}