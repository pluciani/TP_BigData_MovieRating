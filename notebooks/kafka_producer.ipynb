{
 "cells": [
  {
   "cell_type": "code",
   "execution_count": 1,
   "id": "55bb8627-990d-42df-869e-52def20d059e",
   "metadata": {},
   "outputs": [],
   "source": [
    "from kafka import KafkaProducer\n",
    "import json\n",
    "import time\n",
    "import random"
   ]
  },
  {
   "cell_type": "code",
   "execution_count": 2,
   "id": "8f0cd1db-03b3-4abf-b0af-1669f64070f0",
   "metadata": {},
   "outputs": [],
   "source": [
    "# Configuration de Kafka\n",
    "KAFKA_BROKER = 'localhost:9092'  # Remplacez par l'adresse de votre broker Kafka\n",
    "TOPIC_NAME = 'movielens_ratings' "
   ]
  },
  {
   "cell_type": "code",
   "execution_count": 3,
   "id": "2d56e7a7-2ac2-4970-bb2e-89961322dba2",
   "metadata": {},
   "outputs": [],
   "source": [
    "producer = KafkaProducer(bootstrap_servers=KAFKA_BROKER, value_serializer=lambda v: json.dumps(v).encode('utf-8'))"
   ]
  },
  {
   "cell_type": "code",
   "execution_count": 4,
   "id": "34eb4e46-0abb-45f2-be5d-cc41d940e781",
   "metadata": {},
   "outputs": [],
   "source": [
    "# Fonction de simulation des notes\n",
    "def generate_rating():\n",
    "    user_id = random.choice(list(range(1000)))\n",
    "    movie_id = random.choice(list(range(1000)))\n",
    "    rating = round(random.uniform(0.5, 5.0), 1)  # Note entre 0.5 et 5.0\n",
    "    timestamp = int(time.time())  # Timestamp actuel\n",
    "    return {\n",
    "        'userId': user_id,\n",
    "        'movieId': movie_id,\n",
    "        'rating': rating,\n",
    "        'timestamp': timestamp\n",
    "    }"
   ]
  },
  {
   "cell_type": "code",
   "execution_count": null,
   "id": "741801ec-1d76-43c7-b6f5-2acc61ee3ce7",
   "metadata": {},
   "outputs": [
    {
     "name": "stdout",
     "output_type": "stream",
     "text": [
      "Envoi des messages à Kafka sur le topic 'movielens_ratings'...\n",
      "Message envoyé: {'userId': 216, 'movieId': 118, 'rating': 3.5, 'timestamp': 1746181243}\n",
      "Message envoyé: {'userId': 718, 'movieId': 161, 'rating': 3.3, 'timestamp': 1746181246}\n",
      "Message envoyé: {'userId': 557, 'movieId': 720, 'rating': 2.6, 'timestamp': 1746181251}\n",
      "Message envoyé: {'userId': 676, 'movieId': 743, 'rating': 2.7, 'timestamp': 1746181254}\n",
      "Message envoyé: {'userId': 436, 'movieId': 485, 'rating': 4.6, 'timestamp': 1746181259}\n",
      "Message envoyé: {'userId': 118, 'movieId': 401, 'rating': 0.8, 'timestamp': 1746181261}\n",
      "Message envoyé: {'userId': 192, 'movieId': 133, 'rating': 3.3, 'timestamp': 1746181265}\n",
      "Message envoyé: {'userId': 911, 'movieId': 109, 'rating': 3.9, 'timestamp': 1746181268}\n",
      "Message envoyé: {'userId': 940, 'movieId': 572, 'rating': 1.8, 'timestamp': 1746181273}\n",
      "Message envoyé: {'userId': 944, 'movieId': 895, 'rating': 1.7, 'timestamp': 1746181275}\n",
      "Message envoyé: {'userId': 503, 'movieId': 947, 'rating': 1.3, 'timestamp': 1746181280}\n",
      "Message envoyé: {'userId': 517, 'movieId': 267, 'rating': 0.7, 'timestamp': 1746181284}\n",
      "Message envoyé: {'userId': 296, 'movieId': 269, 'rating': 3.1, 'timestamp': 1746181288}\n",
      "Message envoyé: {'userId': 136, 'movieId': 982, 'rating': 4.9, 'timestamp': 1746181292}\n",
      "Message envoyé: {'userId': 872, 'movieId': 662, 'rating': 3.1, 'timestamp': 1746181296}\n",
      "Message envoyé: {'userId': 393, 'movieId': 548, 'rating': 2.3, 'timestamp': 1746181301}\n",
      "Message envoyé: {'userId': 700, 'movieId': 219, 'rating': 2.5, 'timestamp': 1746181304}\n",
      "Message envoyé: {'userId': 743, 'movieId': 358, 'rating': 2.4, 'timestamp': 1746181308}\n",
      "Message envoyé: {'userId': 952, 'movieId': 979, 'rating': 1.4, 'timestamp': 1746181311}\n",
      "Message envoyé: {'userId': 973, 'movieId': 684, 'rating': 2.8, 'timestamp': 1746181313}\n",
      "Message envoyé: {'userId': 577, 'movieId': 327, 'rating': 1.3, 'timestamp': 1746181317}\n",
      "Message envoyé: {'userId': 737, 'movieId': 549, 'rating': 1.8, 'timestamp': 1746181320}\n",
      "Message envoyé: {'userId': 490, 'movieId': 758, 'rating': 4.6, 'timestamp': 1746181322}\n",
      "Message envoyé: {'userId': 440, 'movieId': 817, 'rating': 1.5, 'timestamp': 1746181325}\n",
      "Message envoyé: {'userId': 952, 'movieId': 593, 'rating': 2.9, 'timestamp': 1746181329}\n",
      "Message envoyé: {'userId': 403, 'movieId': 382, 'rating': 3.1, 'timestamp': 1746181332}\n",
      "Message envoyé: {'userId': 221, 'movieId': 688, 'rating': 2.0, 'timestamp': 1746181337}\n",
      "Message envoyé: {'userId': 427, 'movieId': 440, 'rating': 3.1, 'timestamp': 1746181341}\n",
      "Message envoyé: {'userId': 782, 'movieId': 784, 'rating': 4.2, 'timestamp': 1746181345}\n",
      "Message envoyé: {'userId': 609, 'movieId': 247, 'rating': 3.0, 'timestamp': 1746181349}\n",
      "Message envoyé: {'userId': 750, 'movieId': 613, 'rating': 4.7, 'timestamp': 1746181352}\n",
      "Message envoyé: {'userId': 997, 'movieId': 570, 'rating': 1.1, 'timestamp': 1746181355}\n",
      "Message envoyé: {'userId': 987, 'movieId': 689, 'rating': 2.2, 'timestamp': 1746181357}\n"
     ]
    }
   ],
   "source": [
    "# Envoi des messages à Kafka\n",
    "try:\n",
    "    print(f\"Envoi des messages à Kafka sur le topic '{TOPIC_NAME}'...\")\n",
    "    while True:\n",
    "        message = generate_rating()\n",
    "        producer.send(TOPIC_NAME, value=message)\n",
    "        print(f\"Message envoyé: {message}\")\n",
    "        time.sleep(random.uniform(2.0, 5.0))  # Envoi toutes les 2 à 5 secondes\n",
    "except KeyboardInterrupt:\n",
    "    print(\"Simulation arrêtée.\")\n",
    "except Exception as e:\n",
    "    print(f\"Erreur lors de l'envoi: {e}\")\n",
    "finally:\n",
    "    producer.close()"
   ]
  },
  {
   "cell_type": "code",
   "execution_count": null,
   "id": "fbd93933-bc59-4407-917f-b40bbbd1e7ad",
   "metadata": {},
   "outputs": [],
   "source": []
  }
 ],
 "metadata": {
  "kernelspec": {
   "display_name": "Python 3 (ipykernel)",
   "language": "python",
   "name": "python3"
  },
  "language_info": {
   "codemirror_mode": {
    "name": "ipython",
    "version": 3
   },
   "file_extension": ".py",
   "mimetype": "text/x-python",
   "name": "python",
   "nbconvert_exporter": "python",
   "pygments_lexer": "ipython3",
   "version": "3.10.12"
  }
 },
 "nbformat": 4,
 "nbformat_minor": 5
}
