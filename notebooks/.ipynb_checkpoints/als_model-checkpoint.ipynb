{
 "cells": [
  {
   "cell_type": "code",
   "execution_count": 1,
   "id": "7545919a-50ef-4db4-a3b7-5f30d5ddc194",
   "metadata": {},
   "outputs": [
    {
     "name": "stdout",
     "output_type": "stream",
     "text": [
      "Requirement already satisfied: numpy in /usr/local/lib/python3.10/dist-packages (2.2.5)\n",
      "\u001b[33mWARNING: Running pip as the 'root' user can result in broken permissions and conflicting behaviour with the system package manager, possibly rendering your system unusable. It is recommended to use a virtual environment instead: https://pip.pypa.io/warnings/venv. Use the --root-user-action option if you know what you are doing and want to suppress this warning.\u001b[0m\u001b[33m\n",
      "\u001b[0m\n",
      "\u001b[1m[\u001b[0m\u001b[34;49mnotice\u001b[0m\u001b[1;39;49m]\u001b[0m\u001b[39;49m A new release of pip is available: \u001b[0m\u001b[31;49m25.1\u001b[0m\u001b[39;49m -> \u001b[0m\u001b[32;49m25.1.1\u001b[0m\n",
      "\u001b[1m[\u001b[0m\u001b[34;49mnotice\u001b[0m\u001b[1;39;49m]\u001b[0m\u001b[39;49m To update, run: \u001b[0m\u001b[32;49mpython3 -m pip install --upgrade pip\u001b[0m\n",
      "Note: you may need to restart the kernel to use updated packages.\n"
     ]
    }
   ],
   "source": [
    "%pip install numpy"
   ]
  },
  {
   "cell_type": "code",
   "execution_count": 2,
   "id": "ead476f0-f4ec-487c-85fa-e9f22932c939",
   "metadata": {},
   "outputs": [],
   "source": [
    "from pyspark.sql import SparkSession"
   ]
  },
  {
   "cell_type": "code",
   "execution_count": 3,
   "id": "b1ba17c6-1a03-4dd4-b48e-4d13f4b9d3b5",
   "metadata": {},
   "outputs": [
    {
     "name": "stderr",
     "output_type": "stream",
     "text": [
      "Setting default log level to \"WARN\".\n",
      "To adjust logging level use sc.setLogLevel(newLevel). For SparkR, use setLogLevel(newLevel).\n",
      "25/05/05 15:57:18 WARN NativeCodeLoader: Unable to load native-hadoop library for your platform... using builtin-java classes where applicable\n"
     ]
    }
   ],
   "source": [
    "#spark = SparkSession.builder \\\n",
    "    #.appName(\"Read MovieLens from HDFS\") \\\n",
    "    #.getOrCreate()\n",
    "\n",
    "#spark = SparkSession.builder \\\n",
    "    #.appName(\"ALS Model\") \\\n",
    "    #.config(\"spark.driver.memory\", \"4g\") \\\n",
    "    #.config(\"spark.executor.memory\", \"4g\") \\\n",
    "   # .getOrCreate()\n",
    "\n",
    "#.config(\"spark.hadoop.fs.defaultFS\", \"hdfs://bigdata-node:8088\") \\\n",
    "spark = SparkSession.builder \\\n",
    "    .appName(\"MovieLensAnalysis\") \\\n",
    "    .config(\"spark.driver.memory\", \"4g\") \\\n",
    "    .config(\"spark.executor.memory\", \"4g\") \\\n",
    "    .config(\"spark.memory.offHeap.enabled\", \"true\") \\\n",
    "    .config(\"spark.memory.offHeap.size\", \"2g\") \\\n",
    "    .config(\"spark.sql.shuffle.partitions\", \"20\") \\\n",
    "    .config(\"spark.memory.fraction\", \"0.8\") \\\n",
    "    .config(\"spark.memory.storageFraction\", \"0.3\") \\\n",
    "    .getOrCreate()"
   ]
  },
  {
   "cell_type": "markdown",
   "id": "cf8f8a23-93d5-49de-bf86-fc96e6e8fd21",
   "metadata": {},
   "source": [
    "Lire les fichiers"
   ]
  },
  {
   "cell_type": "code",
   "execution_count": 4,
   "id": "557a0df6-d313-4513-81e5-df0c38577e2d",
   "metadata": {},
   "outputs": [],
   "source": [
    "ratings_df = spark.read.option(\"header\", True).csv(\"hdfs:///data/rating.csv\")\n",
    "movies_df = spark.read.option(\"header\", True).csv(\"hdfs:///data/movie.csv\")"
   ]
  },
  {
   "cell_type": "markdown",
   "id": "ff832df7-ed4c-4023-b032-1d2d64ec2539",
   "metadata": {},
   "source": [
    "Supprimer les doublons"
   ]
  },
  {
   "cell_type": "code",
   "execution_count": 5,
   "id": "7488ee5a-a35b-49d8-86ce-2405d9def3cb",
   "metadata": {},
   "outputs": [],
   "source": [
    "ratings_df = ratings_df.dropDuplicates()\n",
    "movies_df = movies_df.dropDuplicates()"
   ]
  },
  {
   "cell_type": "markdown",
   "id": "3813f66d-4172-4d95-a1f3-7cb0e6575a87",
   "metadata": {},
   "source": [
    "Supprimer les valeurs nulles"
   ]
  },
  {
   "cell_type": "code",
   "execution_count": 6,
   "id": "ac110a7f-bc03-48cd-ac03-ba4ca3251aa9",
   "metadata": {},
   "outputs": [],
   "source": [
    "ratings_df = ratings_df.dropna(subset=[\"userId\", \"movieId\", \"rating\"])\n",
    "movies_df = movies_df.dropna(subset=[\"movieId\", \"title\"])"
   ]
  },
  {
   "cell_type": "code",
   "execution_count": 38,
   "id": "1ef10c59-cf22-41cd-88f3-9e6776d1de11",
   "metadata": {},
   "outputs": [
    {
     "name": "stderr",
     "output_type": "stream",
     "text": [
      "25/05/05 13:53:36 WARN RowBasedKeyValueBatch: Calling spill() on RowBasedKeyValueBatch. Will not spill but return 0.\n",
      "25/05/05 13:53:36 WARN RowBasedKeyValueBatch: Calling spill() on RowBasedKeyValueBatch. Will not spill but return 0.\n",
      "25/05/05 13:53:36 WARN RowBasedKeyValueBatch: Calling spill() on RowBasedKeyValueBatch. Will not spill but return 0.\n",
      "25/05/05 13:53:36 WARN RowBasedKeyValueBatch: Calling spill() on RowBasedKeyValueBatch. Will not spill but return 0.\n",
      "25/05/05 13:53:36 WARN RowBasedKeyValueBatch: Calling spill() on RowBasedKeyValueBatch. Will not spill but return 0.\n",
      "25/05/05 13:53:36 WARN RowBasedKeyValueBatch: Calling spill() on RowBasedKeyValueBatch. Will not spill but return 0.\n",
      "25/05/05 13:53:36 WARN RowBasedKeyValueBatch: Calling spill() on RowBasedKeyValueBatch. Will not spill but return 0.\n",
      "25/05/05 13:53:36 WARN RowBasedKeyValueBatch: Calling spill() on RowBasedKeyValueBatch. Will not spill but return 0.\n",
      "25/05/05 13:53:36 WARN RowBasedKeyValueBatch: Calling spill() on RowBasedKeyValueBatch. Will not spill but return 0.\n",
      "25/05/05 13:53:36 WARN RowBasedKeyValueBatch: Calling spill() on RowBasedKeyValueBatch. Will not spill but return 0.\n",
      "25/05/05 13:53:36 WARN RowBasedKeyValueBatch: Calling spill() on RowBasedKeyValueBatch. Will not spill but return 0.\n",
      "25/05/05 13:53:36 WARN RowBasedKeyValueBatch: Calling spill() on RowBasedKeyValueBatch. Will not spill but return 0.\n",
      "25/05/05 13:53:36 WARN RowBasedKeyValueBatch: Calling spill() on RowBasedKeyValueBatch. Will not spill but return 0.\n",
      "25/05/05 13:53:36 WARN RowBasedKeyValueBatch: Calling spill() on RowBasedKeyValueBatch. Will not spill but return 0.\n",
      "25/05/05 13:53:36 WARN RowBasedKeyValueBatch: Calling spill() on RowBasedKeyValueBatch. Will not spill but return 0.\n",
      "25/05/05 13:53:36 WARN RowBasedKeyValueBatch: Calling spill() on RowBasedKeyValueBatch. Will not spill but return 0.\n",
      "25/05/05 13:53:36 WARN RowBasedKeyValueBatch: Calling spill() on RowBasedKeyValueBatch. Will not spill but return 0.\n",
      "25/05/05 13:53:36 WARN RowBasedKeyValueBatch: Calling spill() on RowBasedKeyValueBatch. Will not spill but return 0.\n",
      "25/05/05 13:53:36 WARN RowBasedKeyValueBatch: Calling spill() on RowBasedKeyValueBatch. Will not spill but return 0.\n",
      "25/05/05 13:53:36 WARN RowBasedKeyValueBatch: Calling spill() on RowBasedKeyValueBatch. Will not spill but return 0.\n",
      "25/05/05 13:53:36 WARN RowBasedKeyValueBatch: Calling spill() on RowBasedKeyValueBatch. Will not spill but return 0.\n",
      "25/05/05 13:53:36 WARN RowBasedKeyValueBatch: Calling spill() on RowBasedKeyValueBatch. Will not spill but return 0.\n",
      "25/05/05 13:53:36 WARN RowBasedKeyValueBatch: Calling spill() on RowBasedKeyValueBatch. Will not spill but return 0.\n",
      "25/05/05 13:53:36 WARN RowBasedKeyValueBatch: Calling spill() on RowBasedKeyValueBatch. Will not spill but return 0.\n",
      "25/05/05 13:53:39 WARN RowBasedKeyValueBatch: Calling spill() on RowBasedKeyValueBatch. Will not spill but return 0.\n",
      "25/05/05 13:53:39 WARN RowBasedKeyValueBatch: Calling spill() on RowBasedKeyValueBatch. Will not spill but return 0.\n",
      "25/05/05 13:53:39 WARN RowBasedKeyValueBatch: Calling spill() on RowBasedKeyValueBatch. Will not spill but return 0.\n",
      "25/05/05 13:53:39 WARN RowBasedKeyValueBatch: Calling spill() on RowBasedKeyValueBatch. Will not spill but return 0.\n",
      "25/05/05 13:53:39 WARN RowBasedKeyValueBatch: Calling spill() on RowBasedKeyValueBatch. Will not spill but return 0.\n",
      "25/05/05 13:53:39 WARN RowBasedKeyValueBatch: Calling spill() on RowBasedKeyValueBatch. Will not spill but return 0.\n",
      "25/05/05 13:53:39 WARN RowBasedKeyValueBatch: Calling spill() on RowBasedKeyValueBatch. Will not spill but return 0.\n",
      "25/05/05 13:53:39 WARN RowBasedKeyValueBatch: Calling spill() on RowBasedKeyValueBatch. Will not spill but return 0.\n",
      "25/05/05 13:53:39 WARN RowBasedKeyValueBatch: Calling spill() on RowBasedKeyValueBatch. Will not spill but return 0.\n",
      "25/05/05 13:53:39 WARN RowBasedKeyValueBatch: Calling spill() on RowBasedKeyValueBatch. Will not spill but return 0.\n",
      "25/05/05 13:53:39 WARN RowBasedKeyValueBatch: Calling spill() on RowBasedKeyValueBatch. Will not spill but return 0.\n",
      "25/05/05 13:53:39 WARN RowBasedKeyValueBatch: Calling spill() on RowBasedKeyValueBatch. Will not spill but return 0.\n",
      "25/05/05 13:53:39 WARN RowBasedKeyValueBatch: Calling spill() on RowBasedKeyValueBatch. Will not spill but return 0.\n",
      "25/05/05 13:53:39 WARN RowBasedKeyValueBatch: Calling spill() on RowBasedKeyValueBatch. Will not spill but return 0.\n",
      "25/05/05 13:53:39 WARN RowBasedKeyValueBatch: Calling spill() on RowBasedKeyValueBatch. Will not spill but return 0.\n",
      "25/05/05 13:53:39 WARN RowBasedKeyValueBatch: Calling spill() on RowBasedKeyValueBatch. Will not spill but return 0.\n",
      "25/05/05 13:53:40 WARN RowBasedKeyValueBatch: Calling spill() on RowBasedKeyValueBatch. Will not spill but return 0.\n",
      "25/05/05 13:53:40 WARN RowBasedKeyValueBatch: Calling spill() on RowBasedKeyValueBatch. Will not spill but return 0.\n",
      "25/05/05 13:53:40 WARN RowBasedKeyValueBatch: Calling spill() on RowBasedKeyValueBatch. Will not spill but return 0.\n",
      "25/05/05 13:53:40 WARN RowBasedKeyValueBatch: Calling spill() on RowBasedKeyValueBatch. Will not spill but return 0.\n",
      "25/05/05 13:53:40 WARN RowBasedKeyValueBatch: Calling spill() on RowBasedKeyValueBatch. Will not spill but return 0.\n",
      "25/05/05 13:53:40 WARN RowBasedKeyValueBatch: Calling spill() on RowBasedKeyValueBatch. Will not spill but return 0.\n",
      "25/05/05 13:53:40 WARN RowBasedKeyValueBatch: Calling spill() on RowBasedKeyValueBatch. Will not spill but return 0.\n",
      "25/05/05 13:53:40 WARN RowBasedKeyValueBatch: Calling spill() on RowBasedKeyValueBatch. Will not spill but return 0.\n",
      "25/05/05 13:53:41 WARN RowBasedKeyValueBatch: Calling spill() on RowBasedKeyValueBatch. Will not spill but return 0.\n",
      "25/05/05 13:53:41 WARN RowBasedKeyValueBatch: Calling spill() on RowBasedKeyValueBatch. Will not spill but return 0.\n",
      "25/05/05 13:53:42 WARN RowBasedKeyValueBatch: Calling spill() on RowBasedKeyValueBatch. Will not spill but return 0.\n",
      "25/05/05 13:53:42 WARN RowBasedKeyValueBatch: Calling spill() on RowBasedKeyValueBatch. Will not spill but return 0.\n",
      "25/05/05 13:53:42 WARN RowBasedKeyValueBatch: Calling spill() on RowBasedKeyValueBatch. Will not spill but return 0.\n",
      "25/05/05 13:53:42 WARN RowBasedKeyValueBatch: Calling spill() on RowBasedKeyValueBatch. Will not spill but return 0.\n",
      "25/05/05 13:53:42 WARN RowBasedKeyValueBatch: Calling spill() on RowBasedKeyValueBatch. Will not spill but return 0.\n",
      "25/05/05 13:53:42 WARN RowBasedKeyValueBatch: Calling spill() on RowBasedKeyValueBatch. Will not spill but return 0.\n",
      "25/05/05 13:53:42 WARN RowBasedKeyValueBatch: Calling spill() on RowBasedKeyValueBatch. Will not spill but return 0.\n",
      "25/05/05 13:53:42 WARN RowBasedKeyValueBatch: Calling spill() on RowBasedKeyValueBatch. Will not spill but return 0.\n",
      "25/05/05 13:53:42 WARN RowBasedKeyValueBatch: Calling spill() on RowBasedKeyValueBatch. Will not spill but return 0.\n",
      "25/05/05 13:53:42 WARN RowBasedKeyValueBatch: Calling spill() on RowBasedKeyValueBatch. Will not spill but return 0.\n",
      "25/05/05 13:53:42 WARN RowBasedKeyValueBatch: Calling spill() on RowBasedKeyValueBatch. Will not spill but return 0.\n",
      "25/05/05 13:53:42 WARN RowBasedKeyValueBatch: Calling spill() on RowBasedKeyValueBatch. Will not spill but return 0.\n",
      "25/05/05 13:53:42 WARN RowBasedKeyValueBatch: Calling spill() on RowBasedKeyValueBatch. Will not spill but return 0.\n",
      "25/05/05 13:53:42 WARN RowBasedKeyValueBatch: Calling spill() on RowBasedKeyValueBatch. Will not spill but return 0.\n",
      "25/05/05 13:53:42 WARN RowBasedKeyValueBatch: Calling spill() on RowBasedKeyValueBatch. Will not spill but return 0.\n",
      "25/05/05 13:53:42 WARN RowBasedKeyValueBatch: Calling spill() on RowBasedKeyValueBatch. Will not spill but return 0.\n",
      "25/05/05 13:53:42 WARN RowBasedKeyValueBatch: Calling spill() on RowBasedKeyValueBatch. Will not spill but return 0.\n",
      "25/05/05 13:53:42 WARN RowBasedKeyValueBatch: Calling spill() on RowBasedKeyValueBatch. Will not spill but return 0.\n",
      "25/05/05 13:53:42 WARN RowBasedKeyValueBatch: Calling spill() on RowBasedKeyValueBatch. Will not spill but return 0.\n",
      "25/05/05 13:53:42 WARN RowBasedKeyValueBatch: Calling spill() on RowBasedKeyValueBatch. Will not spill but return 0.\n",
      "25/05/05 13:53:42 WARN RowBasedKeyValueBatch: Calling spill() on RowBasedKeyValueBatch. Will not spill but return 0.\n",
      "25/05/05 13:53:42 WARN RowBasedKeyValueBatch: Calling spill() on RowBasedKeyValueBatch. Will not spill but return 0.\n",
      "25/05/05 13:53:43 WARN RowBasedKeyValueBatch: Calling spill() on RowBasedKeyValueBatch. Will not spill but return 0.\n",
      "25/05/05 13:53:43 WARN RowBasedKeyValueBatch: Calling spill() on RowBasedKeyValueBatch. Will not spill but return 0.\n",
      "25/05/05 13:53:44 WARN RowBasedKeyValueBatch: Calling spill() on RowBasedKeyValueBatch. Will not spill but return 0.\n",
      "25/05/05 13:53:44 WARN RowBasedKeyValueBatch: Calling spill() on RowBasedKeyValueBatch. Will not spill but return 0.\n",
      "25/05/05 13:53:44 WARN RowBasedKeyValueBatch: Calling spill() on RowBasedKeyValueBatch. Will not spill but return 0.\n",
      "25/05/05 13:53:44 WARN RowBasedKeyValueBatch: Calling spill() on RowBasedKeyValueBatch. Will not spill but return 0.\n",
      "25/05/05 13:53:44 WARN RowBasedKeyValueBatch: Calling spill() on RowBasedKeyValueBatch. Will not spill but return 0.\n",
      "25/05/05 13:53:44 WARN RowBasedKeyValueBatch: Calling spill() on RowBasedKeyValueBatch. Will not spill but return 0.\n",
      "25/05/05 13:53:44 WARN RowBasedKeyValueBatch: Calling spill() on RowBasedKeyValueBatch. Will not spill but return 0.\n",
      "25/05/05 13:53:44 WARN RowBasedKeyValueBatch: Calling spill() on RowBasedKeyValueBatch. Will not spill but return 0.\n",
      "25/05/05 13:53:44 WARN RowBasedKeyValueBatch: Calling spill() on RowBasedKeyValueBatch. Will not spill but return 0.\n",
      "25/05/05 13:53:44 WARN RowBasedKeyValueBatch: Calling spill() on RowBasedKeyValueBatch. Will not spill but return 0.\n",
      "25/05/05 13:53:44 WARN RowBasedKeyValueBatch: Calling spill() on RowBasedKeyValueBatch. Will not spill but return 0.\n",
      "25/05/05 13:53:44 WARN RowBasedKeyValueBatch: Calling spill() on RowBasedKeyValueBatch. Will not spill but return 0.\n",
      "25/05/05 13:53:44 WARN RowBasedKeyValueBatch: Calling spill() on RowBasedKeyValueBatch. Will not spill but return 0.\n",
      "25/05/05 13:53:44 WARN RowBasedKeyValueBatch: Calling spill() on RowBasedKeyValueBatch. Will not spill but return 0.\n",
      "25/05/05 13:53:44 WARN RowBasedKeyValueBatch: Calling spill() on RowBasedKeyValueBatch. Will not spill but return 0.\n",
      "25/05/05 13:53:44 WARN RowBasedKeyValueBatch: Calling spill() on RowBasedKeyValueBatch. Will not spill but return 0.\n",
      "25/05/05 13:53:44 WARN RowBasedKeyValueBatch: Calling spill() on RowBasedKeyValueBatch. Will not spill but return 0.\n",
      "25/05/05 13:53:44 WARN RowBasedKeyValueBatch: Calling spill() on RowBasedKeyValueBatch. Will not spill but return 0.\n",
      "25/05/05 13:53:44 WARN RowBasedKeyValueBatch: Calling spill() on RowBasedKeyValueBatch. Will not spill but return 0.\n",
      "25/05/05 13:53:44 WARN RowBasedKeyValueBatch: Calling spill() on RowBasedKeyValueBatch. Will not spill but return 0.\n",
      "25/05/05 13:53:45 WARN RowBasedKeyValueBatch: Calling spill() on RowBasedKeyValueBatch. Will not spill but return 0.\n",
      "25/05/05 13:53:45 WARN RowBasedKeyValueBatch: Calling spill() on RowBasedKeyValueBatch. Will not spill but return 0.\n",
      "25/05/05 13:53:45 WARN RowBasedKeyValueBatch: Calling spill() on RowBasedKeyValueBatch. Will not spill but return 0.\n",
      "25/05/05 13:53:45 WARN RowBasedKeyValueBatch: Calling spill() on RowBasedKeyValueBatch. Will not spill but return 0.\n",
      "25/05/05 13:53:46 WARN RowBasedKeyValueBatch: Calling spill() on RowBasedKeyValueBatch. Will not spill but return 0.\n",
      "25/05/05 13:53:46 WARN RowBasedKeyValueBatch: Calling spill() on RowBasedKeyValueBatch. Will not spill but return 0.\n",
      "25/05/05 13:53:46 WARN RowBasedKeyValueBatch: Calling spill() on RowBasedKeyValueBatch. Will not spill but return 0.\n",
      "25/05/05 13:53:46 WARN RowBasedKeyValueBatch: Calling spill() on RowBasedKeyValueBatch. Will not spill but return 0.\n",
      "25/05/05 13:53:46 WARN RowBasedKeyValueBatch: Calling spill() on RowBasedKeyValueBatch. Will not spill but return 0.\n",
      "25/05/05 13:53:46 WARN RowBasedKeyValueBatch: Calling spill() on RowBasedKeyValueBatch. Will not spill but return 0.\n",
      "25/05/05 13:53:46 WARN RowBasedKeyValueBatch: Calling spill() on RowBasedKeyValueBatch. Will not spill but return 0.\n",
      "25/05/05 13:53:46 WARN RowBasedKeyValueBatch: Calling spill() on RowBasedKeyValueBatch. Will not spill but return 0.\n",
      "25/05/05 13:53:46 WARN RowBasedKeyValueBatch: Calling spill() on RowBasedKeyValueBatch. Will not spill but return 0.\n",
      "25/05/05 13:53:46 WARN RowBasedKeyValueBatch: Calling spill() on RowBasedKeyValueBatch. Will not spill but return 0.\n",
      "25/05/05 13:53:46 WARN RowBasedKeyValueBatch: Calling spill() on RowBasedKeyValueBatch. Will not spill but return 0.\n",
      "25/05/05 13:53:46 WARN RowBasedKeyValueBatch: Calling spill() on RowBasedKeyValueBatch. Will not spill but return 0.\n",
      "25/05/05 13:53:46 WARN RowBasedKeyValueBatch: Calling spill() on RowBasedKeyValueBatch. Will not spill but return 0.\n",
      "25/05/05 13:53:46 WARN RowBasedKeyValueBatch: Calling spill() on RowBasedKeyValueBatch. Will not spill but return 0.\n",
      "25/05/05 13:53:46 WARN RowBasedKeyValueBatch: Calling spill() on RowBasedKeyValueBatch. Will not spill but return 0.\n",
      "25/05/05 13:53:46 WARN RowBasedKeyValueBatch: Calling spill() on RowBasedKeyValueBatch. Will not spill but return 0.\n",
      "25/05/05 13:53:46 WARN RowBasedKeyValueBatch: Calling spill() on RowBasedKeyValueBatch. Will not spill but return 0.\n",
      "25/05/05 13:53:46 WARN RowBasedKeyValueBatch: Calling spill() on RowBasedKeyValueBatch. Will not spill but return 0.\n",
      "25/05/05 13:53:46 WARN RowBasedKeyValueBatch: Calling spill() on RowBasedKeyValueBatch. Will not spill but return 0.\n",
      "25/05/05 13:53:46 WARN RowBasedKeyValueBatch: Calling spill() on RowBasedKeyValueBatch. Will not spill but return 0.\n",
      "25/05/05 13:53:47 WARN RowBasedKeyValueBatch: Calling spill() on RowBasedKeyValueBatch. Will not spill but return 0.\n",
      "25/05/05 13:53:47 WARN RowBasedKeyValueBatch: Calling spill() on RowBasedKeyValueBatch. Will not spill but return 0.\n",
      "25/05/05 13:53:47 WARN RowBasedKeyValueBatch: Calling spill() on RowBasedKeyValueBatch. Will not spill but return 0.\n",
      "25/05/05 13:53:47 WARN RowBasedKeyValueBatch: Calling spill() on RowBasedKeyValueBatch. Will not spill but return 0.\n",
      "25/05/05 13:53:48 WARN RowBasedKeyValueBatch: Calling spill() on RowBasedKeyValueBatch. Will not spill but return 0.\n",
      "25/05/05 13:53:48 WARN RowBasedKeyValueBatch: Calling spill() on RowBasedKeyValueBatch. Will not spill but return 0.\n",
      "25/05/05 13:53:48 WARN RowBasedKeyValueBatch: Calling spill() on RowBasedKeyValueBatch. Will not spill but return 0.\n",
      "25/05/05 13:53:48 WARN RowBasedKeyValueBatch: Calling spill() on RowBasedKeyValueBatch. Will not spill but return 0.\n",
      "25/05/05 13:53:48 WARN RowBasedKeyValueBatch: Calling spill() on RowBasedKeyValueBatch. Will not spill but return 0.\n",
      "25/05/05 13:53:48 WARN RowBasedKeyValueBatch: Calling spill() on RowBasedKeyValueBatch. Will not spill but return 0.\n",
      "25/05/05 13:53:48 WARN RowBasedKeyValueBatch: Calling spill() on RowBasedKeyValueBatch. Will not spill but return 0.\n",
      "25/05/05 13:53:48 WARN RowBasedKeyValueBatch: Calling spill() on RowBasedKeyValueBatch. Will not spill but return 0.\n",
      "25/05/05 13:53:48 WARN RowBasedKeyValueBatch: Calling spill() on RowBasedKeyValueBatch. Will not spill but return 0.\n",
      "25/05/05 13:53:48 WARN RowBasedKeyValueBatch: Calling spill() on RowBasedKeyValueBatch. Will not spill but return 0.\n",
      "25/05/05 13:53:48 WARN RowBasedKeyValueBatch: Calling spill() on RowBasedKeyValueBatch. Will not spill but return 0.\n",
      "25/05/05 13:53:48 WARN RowBasedKeyValueBatch: Calling spill() on RowBasedKeyValueBatch. Will not spill but return 0.\n",
      "25/05/05 13:53:48 WARN RowBasedKeyValueBatch: Calling spill() on RowBasedKeyValueBatch. Will not spill but return 0.\n",
      "25/05/05 13:53:48 WARN RowBasedKeyValueBatch: Calling spill() on RowBasedKeyValueBatch. Will not spill but return 0.\n",
      "25/05/05 13:53:48 WARN RowBasedKeyValueBatch: Calling spill() on RowBasedKeyValueBatch. Will not spill but return 0.\n",
      "25/05/05 13:53:48 WARN RowBasedKeyValueBatch: Calling spill() on RowBasedKeyValueBatch. Will not spill but return 0.\n",
      "25/05/05 13:53:49 WARN RowBasedKeyValueBatch: Calling spill() on RowBasedKeyValueBatch. Will not spill but return 0.\n",
      "25/05/05 13:53:49 WARN RowBasedKeyValueBatch: Calling spill() on RowBasedKeyValueBatch. Will not spill but return 0.\n",
      "25/05/05 13:53:49 WARN RowBasedKeyValueBatch: Calling spill() on RowBasedKeyValueBatch. Will not spill but return 0.\n",
      "[Stage 31:>                                                         (0 + 1) / 1]"
     ]
    },
    {
     "name": "stdout",
     "output_type": "stream",
     "text": [
      "+------+-------+------+-------------------+\n",
      "|userId|movieId|rating|          timestamp|\n",
      "+------+-------+------+-------------------+\n",
      "|     1|    593|   3.5|2005-04-02 23:31:01|\n",
      "|     1|   1246|   3.5|2004-09-10 03:09:19|\n",
      "|     1|   1350|   3.5|2004-09-10 03:15:58|\n",
      "|     1|   1525|     3|2005-04-02 23:55:50|\n",
      "|     1|   2959|     4|2004-09-10 03:08:18|\n",
      "+------+-------+------+-------------------+\n",
      "only showing top 5 rows\n",
      "\n"
     ]
    },
    {
     "name": "stderr",
     "output_type": "stream",
     "text": [
      "                                                                                "
     ]
    }
   ],
   "source": [
    "ratings_df.show(5)"
   ]
  },
  {
   "cell_type": "markdown",
   "id": "72d2c6cd-83d6-4d67-adde-f46567728dfb",
   "metadata": {},
   "source": [
    "Affichage des données"
   ]
  },
  {
   "cell_type": "code",
   "execution_count": 39,
   "id": "9f0b20ab-76ea-45b2-a4d3-a87927ff9487",
   "metadata": {},
   "outputs": [
    {
     "name": "stdout",
     "output_type": "stream",
     "text": [
      "+-------+--------------------+--------------------+\n",
      "|movieId|               title|              genres|\n",
      "+-------+--------------------+--------------------+\n",
      "|      6|         Heat (1995)|Action|Crime|Thri...|\n",
      "|     12|Dracula: Dead and...|       Comedy|Horror|\n",
      "|     24|       Powder (1995)|        Drama|Sci-Fi|\n",
      "|     31|Dangerous Minds (...|               Drama|\n",
      "|     60|Indian in the Cup...|Adventure|Childre...|\n",
      "+-------+--------------------+--------------------+\n",
      "only showing top 5 rows\n",
      "\n"
     ]
    }
   ],
   "source": [
    "movies_df.show(5)"
   ]
  },
  {
   "cell_type": "code",
   "execution_count": 9,
   "id": "06278d09-4288-42f7-80d1-da3ef32d9fae",
   "metadata": {},
   "outputs": [],
   "source": [
    "df_data = ratings_df.join(\n",
    "    movies_df.select(\"movieId\", \"title\"),\n",
    "    on=\"movieId\",\n",
    "    how=\"left\"\n",
    ")"
   ]
  },
  {
   "cell_type": "code",
   "execution_count": 10,
   "id": "63753215-bcbc-41f4-a201-845eabf65bb5",
   "metadata": {},
   "outputs": [
    {
     "name": "stderr",
     "output_type": "stream",
     "text": [
      "25/05/05 15:58:57 WARN RowBasedKeyValueBatch: Calling spill() on RowBasedKeyValueBatch. Will not spill but return 0.\n",
      "25/05/05 15:58:57 WARN RowBasedKeyValueBatch: Calling spill() on RowBasedKeyValueBatch. Will not spill but return 0.\n",
      "25/05/05 15:58:57 WARN RowBasedKeyValueBatch: Calling spill() on RowBasedKeyValueBatch. Will not spill but return 0.\n",
      "25/05/05 15:58:57 WARN RowBasedKeyValueBatch: Calling spill() on RowBasedKeyValueBatch. Will not spill but return 0.\n",
      "25/05/05 15:58:57 WARN RowBasedKeyValueBatch: Calling spill() on RowBasedKeyValueBatch. Will not spill but return 0.\n",
      "25/05/05 15:58:57 WARN RowBasedKeyValueBatch: Calling spill() on RowBasedKeyValueBatch. Will not spill but return 0.\n",
      "25/05/05 15:58:57 WARN RowBasedKeyValueBatch: Calling spill() on RowBasedKeyValueBatch. Will not spill but return 0.\n",
      "25/05/05 15:58:57 WARN RowBasedKeyValueBatch: Calling spill() on RowBasedKeyValueBatch. Will not spill but return 0.\n",
      "25/05/05 15:58:57 WARN RowBasedKeyValueBatch: Calling spill() on RowBasedKeyValueBatch. Will not spill but return 0.\n",
      "25/05/05 15:58:57 WARN RowBasedKeyValueBatch: Calling spill() on RowBasedKeyValueBatch. Will not spill but return 0.\n",
      "25/05/05 15:58:57 WARN RowBasedKeyValueBatch: Calling spill() on RowBasedKeyValueBatch. Will not spill but return 0.\n",
      "25/05/05 15:58:57 WARN RowBasedKeyValueBatch: Calling spill() on RowBasedKeyValueBatch. Will not spill but return 0.\n",
      "[Stage 7:>                                                          (0 + 1) / 1]"
     ]
    },
    {
     "name": "stdout",
     "output_type": "stream",
     "text": [
      "+-------+------+------+-------------------+--------------------+\n",
      "|movieId|userId|rating|          timestamp|               title|\n",
      "+-------+------+------+-------------------+--------------------+\n",
      "|    593|     1|   3.5|2005-04-02 23:31:01|Silence of the La...|\n",
      "|   1246|     1|   3.5|2004-09-10 03:09:19|Dead Poets Societ...|\n",
      "|   1350|     1|   3.5|2004-09-10 03:15:58|    Omen, The (1976)|\n",
      "|   1525|     1|     3|2005-04-02 23:55:50|Warriors of Virtu...|\n",
      "|   2959|     1|     4|2004-09-10 03:08:18|   Fight Club (1999)|\n",
      "+-------+------+------+-------------------+--------------------+\n",
      "only showing top 5 rows\n",
      "\n"
     ]
    },
    {
     "name": "stderr",
     "output_type": "stream",
     "text": [
      "                                                                                "
     ]
    }
   ],
   "source": [
    "df_data.show(5)"
   ]
  },
  {
   "cell_type": "code",
   "execution_count": 11,
   "id": "002f42d9-7288-46a9-a49a-67a28b5d3d3c",
   "metadata": {},
   "outputs": [],
   "source": [
    "df_data = df_data.withColumnsRenamed({\n",
    "    'userId': 'user',\n",
    "    'movieId': 'movie',\n",
    "})"
   ]
  },
  {
   "cell_type": "code",
   "execution_count": 12,
   "id": "aa80e461-4542-48d9-b803-beec718aabb0",
   "metadata": {},
   "outputs": [
    {
     "name": "stderr",
     "output_type": "stream",
     "text": [
      "25/05/05 15:59:10 WARN RowBasedKeyValueBatch: Calling spill() on RowBasedKeyValueBatch. Will not spill but return 0.\n",
      "25/05/05 15:59:10 WARN RowBasedKeyValueBatch: Calling spill() on RowBasedKeyValueBatch. Will not spill but return 0.\n",
      "25/05/05 15:59:10 WARN RowBasedKeyValueBatch: Calling spill() on RowBasedKeyValueBatch. Will not spill but return 0.\n",
      "25/05/05 15:59:10 WARN RowBasedKeyValueBatch: Calling spill() on RowBasedKeyValueBatch. Will not spill but return 0.\n",
      "25/05/05 15:59:10 WARN RowBasedKeyValueBatch: Calling spill() on RowBasedKeyValueBatch. Will not spill but return 0.\n",
      "25/05/05 15:59:10 WARN RowBasedKeyValueBatch: Calling spill() on RowBasedKeyValueBatch. Will not spill but return 0.\n",
      "25/05/05 15:59:10 WARN RowBasedKeyValueBatch: Calling spill() on RowBasedKeyValueBatch. Will not spill but return 0.\n",
      "25/05/05 15:59:10 WARN RowBasedKeyValueBatch: Calling spill() on RowBasedKeyValueBatch. Will not spill but return 0.\n",
      "25/05/05 15:59:10 WARN RowBasedKeyValueBatch: Calling spill() on RowBasedKeyValueBatch. Will not spill but return 0.\n",
      "25/05/05 15:59:10 WARN RowBasedKeyValueBatch: Calling spill() on RowBasedKeyValueBatch. Will not spill but return 0.\n",
      "25/05/05 15:59:10 WARN RowBasedKeyValueBatch: Calling spill() on RowBasedKeyValueBatch. Will not spill but return 0.\n",
      "25/05/05 15:59:13 WARN RowBasedKeyValueBatch: Calling spill() on RowBasedKeyValueBatch. Will not spill but return 0.\n",
      "[Stage 8:====================================================>    (11 + 1) / 12]"
     ]
    },
    {
     "name": "stdout",
     "output_type": "stream",
     "text": [
      "+-----+----+------+-------------------+--------------------+\n",
      "|movie|user|rating|          timestamp|               title|\n",
      "+-----+----+------+-------------------+--------------------+\n",
      "|  593|   1|   3.5|2005-04-02 23:31:01|Silence of the La...|\n",
      "| 1246|   1|   3.5|2004-09-10 03:09:19|Dead Poets Societ...|\n",
      "| 1350|   1|   3.5|2004-09-10 03:15:58|    Omen, The (1976)|\n",
      "| 1525|   1|     3|2005-04-02 23:55:50|Warriors of Virtu...|\n",
      "| 2959|   1|     4|2004-09-10 03:08:18|   Fight Club (1999)|\n",
      "+-----+----+------+-------------------+--------------------+\n",
      "only showing top 5 rows\n",
      "\n"
     ]
    },
    {
     "name": "stderr",
     "output_type": "stream",
     "text": [
      "                                                                                "
     ]
    }
   ],
   "source": [
    "df_data.show(5)"
   ]
  },
  {
   "cell_type": "code",
   "execution_count": 13,
   "id": "99d5f476-a971-48b2-9abc-614c68392e0f",
   "metadata": {},
   "outputs": [],
   "source": [
    "from pyspark.sql.functions import col\n",
    "\n",
    "df_data = df_data \\\n",
    "    .withColumn(\"user\", col(\"user\").cast(\"int\")) \\\n",
    "    .withColumn(\"movie\", col(\"movie\").cast(\"int\")) \\\n",
    "    .withColumn(\"rating\", col(\"rating\").cast(\"float\")) \\\n",
    "    .withColumn(\"timestamp\", col(\"timestamp\").cast(\"int\")) \\\n",
    "    .withColumn(\"title\", col(\"title\").cast(\"string\"))"
   ]
  },
  {
   "cell_type": "code",
   "execution_count": 44,
   "id": "7a7466fe-735f-4b66-89ec-5aeba43e6287",
   "metadata": {},
   "outputs": [],
   "source": [
    "df_data_train, df_data_test = df_data.randomSplit([0.8, 0.2], 42)"
   ]
  },
  {
   "cell_type": "code",
   "execution_count": 30,
   "id": "167be899-c3e6-48dc-bad4-add72e4eda5e",
   "metadata": {},
   "outputs": [
    {
     "name": "stderr",
     "output_type": "stream",
     "text": [
      "                                                                                "
     ]
    }
   ],
   "source": [
    "# import ALS model from spark\n",
    "from pyspark.ml.recommendation import ALS\n",
    "\n",
    "# initialise the model \n",
    "als = ALS(maxIter=10, regParam=0.1, rank=10, userCol=\"user\", itemCol=\"movie\", \n",
    "          ratingCol=\"rating\", coldStartStrategy=\"drop\", nonnegative=True)\n",
    "\n",
    "# train model \n",
    "als_model = als.fit(df_data_train)"
   ]
  },
  {
   "cell_type": "code",
   "execution_count": 31,
   "id": "376f6658-da74-496e-ba0c-4daf4c7c5bf8",
   "metadata": {},
   "outputs": [],
   "source": [
    "dfs_preds = als_model.transform(df_data_test)"
   ]
  },
  {
   "cell_type": "code",
   "execution_count": 32,
   "id": "7d35d13e-9426-44fb-b4a8-bfc5edbc1205",
   "metadata": {},
   "outputs": [
    {
     "name": "stderr",
     "output_type": "stream",
     "text": [
      "[Stage 255:=====================================>                  (8 + 4) / 12]"
     ]
    },
    {
     "name": "stdout",
     "output_type": "stream",
     "text": [
      "+-----+----+------+---------+--------------------+----------+\n",
      "|movie|user|rating|timestamp|               title|prediction|\n",
      "+-----+----+------+---------+--------------------+----------+\n",
      "|   47|  95|   3.0|     NULL|Seven (a.k.a. Se7...| 3.0762284|\n",
      "|  262|  95|   3.0|     NULL|Little Princess, ...| 3.4373078|\n",
      "|  446|  95|   3.0|     NULL|Farewell My Concu...| 3.6016524|\n",
      "|  592|  95|   3.0|     NULL|       Batman (1989)|  2.502191|\n",
      "|  708|  95|   4.0|     NULL|Truth About Cats ...|  3.108661|\n",
      "+-----+----+------+---------+--------------------+----------+\n",
      "only showing top 5 rows\n",
      "\n"
     ]
    },
    {
     "name": "stderr",
     "output_type": "stream",
     "text": [
      "                                                                                "
     ]
    }
   ],
   "source": [
    "dfs_preds.show(5)"
   ]
  },
  {
   "cell_type": "code",
   "execution_count": 33,
   "id": "c131d101-ca69-42f3-93f3-0c0f8d3f54c8",
   "metadata": {},
   "outputs": [],
   "source": [
    "#als_model.save(\"hdfs:///data/als_prediction_rating\")"
   ]
  },
  {
   "cell_type": "code",
   "execution_count": 14,
   "id": "d8454468-2ce4-4ecb-bf96-9fd20df144a4",
   "metadata": {},
   "outputs": [],
   "source": [
    "from pyspark.ml.recommendation import ALSModel\n",
    "\n",
    "als_model_loaded = ALSModel.load(\"hdfs:///data/als_prediction_rating\")"
   ]
  },
  {
   "cell_type": "code",
   "execution_count": 47,
   "id": "5004f194-c3c8-41aa-9ee5-dd7fd1b0fd10",
   "metadata": {},
   "outputs": [],
   "source": [
    "dfs_preds_loaded = als_model_loaded.transform(df_data_test)"
   ]
  },
  {
   "cell_type": "code",
   "execution_count": null,
   "id": "80881729-ae39-4c05-8360-ff6a0a0510bb",
   "metadata": {},
   "outputs": [],
   "source": [
    "dfs_preds_loaded.show(5)"
   ]
  },
  {
   "cell_type": "code",
   "execution_count": 46,
   "id": "1c10a083-5f7b-44a8-a2c9-7f6621ebb40f",
   "metadata": {},
   "outputs": [
    {
     "name": "stderr",
     "output_type": "stream",
     "text": [
      "[Stage 36:>                                                         (0 + 1) / 1]"
     ]
    },
    {
     "name": "stdout",
     "output_type": "stream",
     "text": [
      "+-----+----+------+---------+----------------+\n",
      "|movie|user|rating|timestamp|           title|\n",
      "+-----+----+------+---------+----------------+\n",
      "|    1|   8|   4.0|     NULL|Toy Story (1995)|\n",
      "|    1|  13|   4.0|     NULL|Toy Story (1995)|\n",
      "|    1|  16|   3.0|     NULL|Toy Story (1995)|\n",
      "|    1|  31|   3.0|     NULL|Toy Story (1995)|\n",
      "|    1|  58|   5.0|     NULL|Toy Story (1995)|\n",
      "|    1|  80|   3.0|     NULL|Toy Story (1995)|\n",
      "|    1|  96|   3.5|     NULL|Toy Story (1995)|\n",
      "|    1| 114|   3.0|     NULL|Toy Story (1995)|\n",
      "|    1| 134|   4.0|     NULL|Toy Story (1995)|\n",
      "|    1| 135|   4.0|     NULL|Toy Story (1995)|\n",
      "|    1| 136|   5.0|     NULL|Toy Story (1995)|\n",
      "|    1| 140|   4.0|     NULL|Toy Story (1995)|\n",
      "|    1| 144|   3.0|     NULL|Toy Story (1995)|\n",
      "|    1| 155|   2.5|     NULL|Toy Story (1995)|\n",
      "|    1| 172|   5.0|     NULL|Toy Story (1995)|\n",
      "|    1| 204|   5.0|     NULL|Toy Story (1995)|\n",
      "|    1| 232|   3.0|     NULL|Toy Story (1995)|\n",
      "|    1| 296|   5.0|     NULL|Toy Story (1995)|\n",
      "|    1| 318|   5.0|     NULL|Toy Story (1995)|\n",
      "|    1| 330|   4.0|     NULL|Toy Story (1995)|\n",
      "+-----+----+------+---------+----------------+\n",
      "only showing top 20 rows\n",
      "\n"
     ]
    },
    {
     "name": "stderr",
     "output_type": "stream",
     "text": [
      "                                                                                "
     ]
    }
   ],
   "source": [
    "df_data_test.show()"
   ]
  },
  {
   "cell_type": "code",
   "execution_count": 48,
   "id": "be25fa01-15f4-47fe-a548-18fc446afc53",
   "metadata": {},
   "outputs": [
    {
     "name": "stderr",
     "output_type": "stream",
     "text": [
      "[Stage 55:=======================>                                 (5 + 7) / 12]"
     ]
    },
    {
     "name": "stdout",
     "output_type": "stream",
     "text": [
      "RMSE score = 0.8157736828362929\n",
      "R2 score = 0.39869052585871656\n",
      "MAE score = 0.6375367684273177\n",
      "Explained variance score = 0.4086564056899666\n"
     ]
    },
    {
     "name": "stderr",
     "output_type": "stream",
     "text": [
      "                                                                                "
     ]
    }
   ],
   "source": [
    "from pyspark.ml.evaluation import RegressionEvaluator\n",
    "\n",
    "# initiate evaluator\n",
    "eval = RegressionEvaluator(metricName='rmse', labelCol='rating', predictionCol='prediction')\n",
    "# calculate rmse\n",
    "rmse = eval.evaluate(dfs_preds_loaded)\n",
    "\n",
    "# reset metric and evaluate mse, R2, mae & explained variance\n",
    "r2 = eval.evaluate(dfs_preds_loaded, {eval.metricName: 'r2'})\n",
    "mae = eval.evaluate(dfs_preds_loaded, {eval.metricName: 'mae'})\n",
    "var = eval.evaluate(dfs_preds_loaded, {eval.metricName: 'var'})\n",
    "\n",
    "\n",
    "print(\n",
    "    \"RMSE score = {}\".format(rmse),\n",
    "    \"R2 score = {}\".format(r2),\n",
    "    \"MAE score = {}\".format(mae),\n",
    "    \"Explained variance score = {}\".format(var),\n",
    "    sep=\"\\n\"\n",
    ")"
   ]
  },
  {
   "cell_type": "markdown",
   "id": "f28c4069-fa34-4db8-b2fd-df4dbd067549",
   "metadata": {},
   "source": [
    "Les dernières celules a exécuté permette l'ajout d'un utilisateur précis.\n",
    "Pour changer l'utilisateur à ajouter dans la base mongo changer la valeur 'user-id' "
   ]
  },
  {
   "cell_type": "code",
   "execution_count": null,
   "id": "92ed989f-462a-4b29-8bea-6226b4fa3c83",
   "metadata": {},
   "outputs": [],
   "source": []
  },
  {
   "cell_type": "code",
   "execution_count": null,
   "id": "a18d6ef3-9e24-4184-857e-e1c905cd9fc7",
   "metadata": {},
   "outputs": [],
   "source": []
  },
  {
   "cell_type": "code",
   "execution_count": null,
   "id": "1f468cff-bf0c-4e9f-ba81-678c94c9cd77",
   "metadata": {},
   "outputs": [],
   "source": []
  },
  {
   "cell_type": "code",
   "execution_count": null,
   "id": "4331ce2b-250d-4a53-a319-645f5eb71b5c",
   "metadata": {},
   "outputs": [],
   "source": []
  },
  {
   "cell_type": "code",
   "execution_count": null,
   "id": "6f43b57c-7480-42cc-b1a2-7a729685cf12",
   "metadata": {},
   "outputs": [],
   "source": []
  },
  {
   "cell_type": "code",
   "execution_count": 54,
   "id": "fc72c17a-5ce4-418d-9f3a-5cf57e19380d",
   "metadata": {},
   "outputs": [
    {
     "name": "stderr",
     "output_type": "stream",
     "text": [
      "25/05/05 16:45:03 WARN RowBasedKeyValueBatch: Calling spill() on RowBasedKeyValueBatch. Will not spill but return 0.\n",
      "25/05/05 16:45:03 WARN RowBasedKeyValueBatch: Calling spill() on RowBasedKeyValueBatch. Will not spill but return 0.\n",
      "25/05/05 16:45:03 WARN RowBasedKeyValueBatch: Calling spill() on RowBasedKeyValueBatch. Will not spill but return 0.\n",
      "25/05/05 16:45:03 WARN RowBasedKeyValueBatch: Calling spill() on RowBasedKeyValueBatch. Will not spill but return 0.\n",
      "25/05/05 16:45:03 WARN RowBasedKeyValueBatch: Calling spill() on RowBasedKeyValueBatch. Will not spill but return 0.\n",
      "25/05/05 16:45:03 WARN RowBasedKeyValueBatch: Calling spill() on RowBasedKeyValueBatch. Will not spill but return 0.\n",
      "25/05/05 16:45:03 WARN RowBasedKeyValueBatch: Calling spill() on RowBasedKeyValueBatch. Will not spill but return 0.\n",
      "25/05/05 16:45:03 WARN RowBasedKeyValueBatch: Calling spill() on RowBasedKeyValueBatch. Will not spill but return 0.\n",
      "25/05/05 16:45:03 WARN RowBasedKeyValueBatch: Calling spill() on RowBasedKeyValueBatch. Will not spill but return 0.\n",
      "25/05/05 16:45:03 WARN RowBasedKeyValueBatch: Calling spill() on RowBasedKeyValueBatch. Will not spill but return 0.\n",
      "25/05/05 16:45:03 WARN RowBasedKeyValueBatch: Calling spill() on RowBasedKeyValueBatch. Will not spill but return 0.\n",
      "25/05/05 16:45:03 WARN RowBasedKeyValueBatch: Calling spill() on RowBasedKeyValueBatch. Will not spill but return 0.\n",
      "25/05/05 16:45:10 WARN RowBasedKeyValueBatch: Calling spill() on RowBasedKeyValueBatch. Will not spill but return 0.\n",
      "25/05/05 16:45:10 WARN RowBasedKeyValueBatch: Calling spill() on RowBasedKeyValueBatch. Will not spill but return 0.\n",
      "25/05/05 16:45:10 WARN RowBasedKeyValueBatch: Calling spill() on RowBasedKeyValueBatch. Will not spill but return 0.\n",
      "25/05/05 16:45:10 WARN RowBasedKeyValueBatch: Calling spill() on RowBasedKeyValueBatch. Will not spill but return 0.\n",
      "25/05/05 16:45:10 WARN RowBasedKeyValueBatch: Calling spill() on RowBasedKeyValueBatch. Will not spill but return 0.\n",
      "25/05/05 16:45:10 WARN RowBasedKeyValueBatch: Calling spill() on RowBasedKeyValueBatch. Will not spill but return 0.\n",
      "25/05/05 16:45:10 WARN RowBasedKeyValueBatch: Calling spill() on RowBasedKeyValueBatch. Will not spill but return 0.\n",
      "25/05/05 16:45:10 WARN RowBasedKeyValueBatch: Calling spill() on RowBasedKeyValueBatch. Will not spill but return 0.\n",
      "25/05/05 16:45:10 WARN RowBasedKeyValueBatch: Calling spill() on RowBasedKeyValueBatch. Will not spill but return 0.\n",
      "25/05/05 16:45:10 WARN RowBasedKeyValueBatch: Calling spill() on RowBasedKeyValueBatch. Will not spill but return 0.\n",
      "25/05/05 16:45:10 WARN RowBasedKeyValueBatch: Calling spill() on RowBasedKeyValueBatch. Will not spill but return 0.\n",
      "25/05/05 16:45:10 WARN RowBasedKeyValueBatch: Calling spill() on RowBasedKeyValueBatch. Will not spill but return 0.\n",
      "25/05/05 16:45:24 WARN RowBasedKeyValueBatch: Calling spill() on RowBasedKeyValueBatch. Will not spill but return 0.\n",
      "25/05/05 16:45:24 WARN RowBasedKeyValueBatch: Calling spill() on RowBasedKeyValueBatch. Will not spill but return 0.\n",
      "25/05/05 16:45:24 WARN RowBasedKeyValueBatch: Calling spill() on RowBasedKeyValueBatch. Will not spill but return 0.\n",
      "25/05/05 16:45:24 WARN RowBasedKeyValueBatch: Calling spill() on RowBasedKeyValueBatch. Will not spill but return 0.\n",
      "25/05/05 16:45:24 WARN RowBasedKeyValueBatch: Calling spill() on RowBasedKeyValueBatch. Will not spill but return 0.\n",
      "25/05/05 16:45:24 WARN RowBasedKeyValueBatch: Calling spill() on RowBasedKeyValueBatch. Will not spill but return 0.\n",
      "25/05/05 16:45:24 WARN RowBasedKeyValueBatch: Calling spill() on RowBasedKeyValueBatch. Will not spill but return 0.\n",
      "25/05/05 16:45:24 WARN RowBasedKeyValueBatch: Calling spill() on RowBasedKeyValueBatch. Will not spill but return 0.\n",
      "25/05/05 16:45:24 WARN RowBasedKeyValueBatch: Calling spill() on RowBasedKeyValueBatch. Will not spill but return 0.\n",
      "25/05/05 16:45:24 WARN RowBasedKeyValueBatch: Calling spill() on RowBasedKeyValueBatch. Will not spill but return 0.\n",
      "25/05/05 16:45:24 WARN RowBasedKeyValueBatch: Calling spill() on RowBasedKeyValueBatch. Will not spill but return 0.\n",
      "25/05/05 16:45:24 WARN RowBasedKeyValueBatch: Calling spill() on RowBasedKeyValueBatch. Will not spill but return 0.\n",
      "25/05/05 16:45:34 WARN RowBasedKeyValueBatch: Calling spill() on RowBasedKeyValueBatch. Will not spill but return 0.\n",
      "25/05/05 16:45:34 WARN RowBasedKeyValueBatch: Calling spill() on RowBasedKeyValueBatch. Will not spill but return 0.\n",
      "25/05/05 16:45:34 WARN RowBasedKeyValueBatch: Calling spill() on RowBasedKeyValueBatch. Will not spill but return 0.\n",
      "25/05/05 16:45:34 WARN RowBasedKeyValueBatch: Calling spill() on RowBasedKeyValueBatch. Will not spill but return 0.\n",
      "25/05/05 16:45:34 WARN RowBasedKeyValueBatch: Calling spill() on RowBasedKeyValueBatch. Will not spill but return 0.\n",
      "25/05/05 16:45:34 WARN RowBasedKeyValueBatch: Calling spill() on RowBasedKeyValueBatch. Will not spill but return 0.\n",
      "25/05/05 16:45:34 WARN RowBasedKeyValueBatch: Calling spill() on RowBasedKeyValueBatch. Will not spill but return 0.\n",
      "25/05/05 16:45:34 WARN RowBasedKeyValueBatch: Calling spill() on RowBasedKeyValueBatch. Will not spill but return 0.\n",
      "25/05/05 16:45:34 WARN RowBasedKeyValueBatch: Calling spill() on RowBasedKeyValueBatch. Will not spill but return 0.\n",
      "25/05/05 16:45:34 WARN RowBasedKeyValueBatch: Calling spill() on RowBasedKeyValueBatch. Will not spill but return 0.\n",
      "25/05/05 16:45:35 WARN RowBasedKeyValueBatch: Calling spill() on RowBasedKeyValueBatch. Will not spill but return 0.\n",
      "25/05/05 16:45:35 WARN RowBasedKeyValueBatch: Calling spill() on RowBasedKeyValueBatch. Will not spill but return 0.\n",
      "                                                                                "
     ]
    },
    {
     "name": "stdout",
     "output_type": "stream",
     "text": [
      "+----+-----+------------------------------------------------------------------------------+----------+\n",
      "|user|movie|title                                                                         |prediction|\n",
      "+----+-----+------------------------------------------------------------------------------+----------+\n",
      "|10  |858  |Godfather, The (1972)                                                         |4.285943  |\n",
      "|10  |527  |Schindler's List (1993)                                                       |4.1748095 |\n",
      "|10  |1221 |Godfather: Part II, The (1974)                                                |4.1656814 |\n",
      "|10  |318  |Shawshank Redemption, The (1994)                                              |4.1608353 |\n",
      "|10  |1193 |One Flew Over the Cuckoo's Nest (1975)                                        |4.136623  |\n",
      "|10  |50   |Usual Suspects, The (1995)                                                    |4.0901284 |\n",
      "|10  |608  |Fargo (1996)                                                                  |4.08797   |\n",
      "|10  |593  |Silence of the Lambs, The (1991)                                              |4.084603  |\n",
      "|10  |296  |Pulp Fiction (1994)                                                           |4.0547028 |\n",
      "|10  |1198 |Raiders of the Lost Ark (Indiana Jones and the Raiders of the Lost Ark) (1981)|4.0506997 |\n",
      "|10  |1213 |Goodfellas (1990)                                                             |4.0089965 |\n",
      "|10  |111  |Taxi Driver (1976)                                                            |4.0068407 |\n",
      "|10  |2858 |American Beauty (1999)                                                        |3.9774253 |\n",
      "|10  |260  |Star Wars: Episode IV - A New Hope (1977)                                     |3.9604685 |\n",
      "|10  |1136 |Monty Python and the Holy Grail (1975)                                        |3.9513566 |\n",
      "|10  |1617 |L.A. Confidential (1997)                                                      |3.9195065 |\n",
      "|10  |1197 |Princess Bride, The (1987)                                                    |3.9096725 |\n",
      "|10  |4226 |Memento (2000)                                                                |3.9082227 |\n",
      "|10  |1214 |Alien (1979)                                                                  |3.9059458 |\n",
      "|10  |1196 |Star Wars: Episode V - The Empire Strikes Back (1980)                         |3.8972332 |\n",
      "|10  |541  |Blade Runner (1982)                                                           |3.8918214 |\n",
      "|10  |1    |Toy Story (1995)                                                              |3.886032  |\n",
      "|10  |2762 |Sixth Sense, The (1999)                                                       |3.8770707 |\n",
      "|10  |2028 |Saving Private Ryan (1998)                                                    |3.8505194 |\n",
      "|10  |34   |Babe (1995)                                                                   |3.840826  |\n",
      "|10  |1200 |Aliens (1986)                                                                 |3.8311725 |\n",
      "|10  |1089 |Reservoir Dogs (1992)                                                         |3.828596  |\n",
      "|10  |924  |2001: A Space Odyssey (1968)                                                  |3.8070903 |\n",
      "|10  |2997 |Being John Malkovich (1999)                                                   |3.7965734 |\n",
      "|10  |1240 |Terminator, The (1984)                                                        |3.786613  |\n",
      "|10  |1097 |E.T. the Extra-Terrestrial (1982)                                             |3.7540913 |\n",
      "|10  |1206 |Clockwork Orange, A (1971)                                                    |3.7532547 |\n",
      "|10  |1270 |Back to the Future (1985)                                                     |3.748942  |\n",
      "|10  |1265 |Groundhog Day (1993)                                                          |3.7467928 |\n",
      "|10  |2959 |Fight Club (1999)                                                             |3.7418284 |\n",
      "|10  |457  |Fugitive, The (1993)                                                          |3.7400768 |\n",
      "|10  |2571 |Matrix, The (1999)                                                            |3.7400703 |\n",
      "|10  |1036 |Die Hard (1988)                                                               |3.7312624 |\n",
      "|10  |1704 |Good Will Hunting (1997)                                                      |3.7311258 |\n",
      "|10  |47   |Seven (a.k.a. Se7en) (1995)                                                   |3.7224064 |\n",
      "|10  |4993 |Lord of the Rings: The Fellowship of the Ring, The (2001)                     |3.717802  |\n",
      "|10  |1961 |Rain Man (1988)                                                               |3.713499  |\n",
      "|10  |3996 |Crouching Tiger, Hidden Dragon (Wo hu cang long) (2000)                       |3.7129707 |\n",
      "|10  |2396 |Shakespeare in Love (1998)                                                    |3.712127  |\n",
      "|10  |589  |Terminator 2: Judgment Day (1991)                                             |3.7117567 |\n",
      "|10  |7153 |Lord of the Rings: The Return of the King, The (2003)                         |3.690053  |\n",
      "|10  |1291 |Indiana Jones and the Last Crusade (1989)                                     |3.687398  |\n",
      "|10  |110  |Braveheart (1995)                                                             |3.676633  |\n",
      "|10  |5952 |Lord of the Rings: The Two Towers, The (2002)                                 |3.6728096 |\n",
      "|10  |356  |Forrest Gump (1994)                                                           |3.6700962 |\n",
      "|10  |293  |Léon: The Professional (a.k.a. The Professional) (Léon) (1994)                |3.666509  |\n",
      "|10  |1073 |Willy Wonka & the Chocolate Factory (1971)                                    |3.631189  |\n",
      "|10  |4306 |Shrek (2001)                                                                  |3.6280847 |\n",
      "|10  |150  |Apollo 13 (1995)                                                              |3.6204545 |\n",
      "|10  |1210 |Star Wars: Episode VI - Return of the Jedi (1983)                             |3.606269  |\n",
      "|10  |2716 |Ghostbusters (a.k.a. Ghost Busters) (1984)                                    |3.596729  |\n",
      "|10  |595  |Beauty and the Beast (1991)                                                   |3.5829506 |\n",
      "|10  |32   |Twelve Monkeys (a.k.a. 12 Monkeys) (1995)                                     |3.566008  |\n",
      "|10  |1923 |There's Something About Mary (1998)                                           |3.552699  |\n",
      "|10  |357  |Four Weddings and a Funeral (1994)                                            |3.5430021 |\n",
      "|10  |3578 |Gladiator (2000)                                                              |3.5337663 |\n",
      "|10  |364  |Lion King, The (1994)                                                         |3.5329728 |\n",
      "|10  |588  |Aladdin (1992)                                                                |3.5052233 |\n",
      "|10  |590  |Dances with Wolves (1990)                                                     |3.4547274 |\n",
      "|10  |39   |Clueless (1995)                                                               |3.4416099 |\n",
      "|10  |480  |Jurassic Park (1993)                                                          |3.4119148 |\n",
      "|10  |6539 |Pirates of the Caribbean: The Curse of the Black Pearl (2003)                 |3.4033275 |\n",
      "|10  |1580 |Men in Black (a.k.a. MIB) (1997)                                              |3.2893145 |\n",
      "|10  |1721 |Titanic (1997)                                                                |3.2511752 |\n",
      "|10  |377  |Speed (1994)                                                                  |3.2325163 |\n",
      "|10  |3793 |X-Men (2000)                                                                  |3.2187014 |\n",
      "|10  |539  |Sleepless in Seattle (1993)                                                   |3.2010996 |\n",
      "|10  |349  |Clear and Present Danger (1994)                                               |3.1826568 |\n",
      "|10  |592  |Batman (1989)                                                                 |3.1788008 |\n",
      "|10  |1527 |Fifth Element, The (1997)                                                     |3.1780288 |\n",
      "|10  |733  |Rock, The (1996)                                                              |3.1638963 |\n",
      "|10  |380  |True Lies (1994)                                                              |3.1301212 |\n",
      "|10  |500  |Mrs. Doubtfire (1993)                                                         |3.1008337 |\n",
      "|10  |2683 |Austin Powers: The Spy Who Shagged Me (1999)                                  |3.0980968 |\n",
      "|10  |587  |Ghost (1990)                                                                  |3.0968313 |\n",
      "|10  |454  |Firm, The (1993)                                                              |3.0762813 |\n",
      "|10  |597  |Pretty Woman (1990)                                                           |3.0653949 |\n",
      "|10  |253  |Interview with the Vampire: The Vampire Chronicles (1994)                     |3.0431492 |\n",
      "|10  |367  |Mask, The (1994)                                                              |3.015355  |\n",
      "|10  |10   |GoldenEye (1995)                                                              |3.00765   |\n",
      "|10  |165  |Die Hard: With a Vengeance (1995)                                             |2.9941382 |\n",
      "|10  |648  |Mission: Impossible (1996)                                                    |2.9765573 |\n",
      "|10  |586  |Home Alone (1990)                                                             |2.913477  |\n",
      "|10  |292  |Outbreak (1995)                                                               |2.9005766 |\n",
      "|10  |231  |Dumb & Dumber (Dumb and Dumber) (1994)                                        |2.8868306 |\n",
      "|10  |344  |Ace Ventura: Pet Detective (1994)                                             |2.8313303 |\n",
      "|10  |780  |Independence Day (a.k.a. ID4) (1996)                                          |2.8259697 |\n",
      "|10  |329  |Star Trek: Generations (1994)                                                 |2.7861476 |\n",
      "|10  |316  |Stargate (1994)                                                               |2.7153149 |\n",
      "|10  |736  |Twister (1996)                                                                |2.7017162 |\n",
      "|10  |2628 |Star Wars: Episode I - The Phantom Menace (1999)                              |2.623809  |\n",
      "|10  |434  |Cliffhanger (1993)                                                            |2.5880034 |\n",
      "|10  |185  |Net, The (1995)                                                               |2.526169  |\n",
      "|10  |153  |Batman Forever (1995)                                                         |2.4861155 |\n",
      "|10  |208  |Waterworld (1995)                                                             |2.3029194 |\n",
      "+----+-----+------------------------------------------------------------------------------+----------+\n",
      "\n"
     ]
    }
   ],
   "source": [
    "from pyspark.sql.functions import col, desc\n",
    "\n",
    "top_100_movie_ids = (\n",
    "    df_data.groupBy(\"movie\")\n",
    "    .count()\n",
    "    .orderBy(desc(\"count\"))\n",
    "    .limit(100)\n",
    "    .select(\"movie\")\n",
    ")\n",
    "\n",
    "df_top_100 = df_data.join(top_100_movie_ids, on=\"movie\", how=\"inner\") \n",
    "\n",
    "# ID de l'utilisateur\n",
    "user_id = 10\n",
    "\n",
    "# Créer un DataFrame avec l'utilisateur\n",
    "user_df = spark.createDataFrame([(user_id,)], [\"user\"])\n",
    "\n",
    "# Créer un DataFrame avec tous les films\n",
    "all_movies_df = df_top_100.select(col(\"movie\").cast(\"int\").alias(\"movie\")).distinct()\n",
    "\n",
    "# Faire un produit cartésien pour obtenir (user, movie)\n",
    "user_movies_df = user_df.crossJoin(all_movies_df)\n",
    "\n",
    "# Prédire les notes\n",
    "predicted_ratings_df = als_model_loaded.transform(user_movies_df)\n",
    "\n",
    "# ✅ Préparer les titres des films sans ambiguïté\n",
    "movies_renamed_df = movies_df.select(\n",
    "    col(\"movieId\").cast(\"int\").alias(\"movie_id_for_join\"),\n",
    "    \"title\"\n",
    ")\n",
    "\n",
    "# ✅ Join propre entre prédictions et titres\n",
    "result_df = predicted_ratings_df.join(\n",
    "    movies_renamed_df,\n",
    "    predicted_ratings_df.movie == movies_renamed_df.movie_id_for_join,\n",
    "    how=\"left\"\n",
    ")\n",
    "\n",
    "\n",
    "\n",
    "result_df.select(\"user\", \"movie\", \"title\", \"prediction\") \\\n",
    "         .orderBy(col(\"prediction\").desc()) \\\n",
    "         .show(truncate=False, n=result_df.count())\n"
   ]
  },
  {
   "cell_type": "code",
   "execution_count": 6,
   "id": "00dabdc0-90c7-4f34-87dd-8b840afd476b",
   "metadata": {},
   "outputs": [
    {
     "name": "stdout",
     "output_type": "stream",
     "text": [
      "Collecting pymongo\n",
      "  Downloading pymongo-4.12.1-cp310-cp310-manylinux_2_17_x86_64.manylinux2014_x86_64.whl.metadata (22 kB)\n",
      "Collecting dnspython<3.0.0,>=1.16.0 (from pymongo)\n",
      "  Downloading dnspython-2.7.0-py3-none-any.whl.metadata (5.8 kB)\n",
      "Downloading pymongo-4.12.1-cp310-cp310-manylinux_2_17_x86_64.manylinux2014_x86_64.whl (1.2 MB)\n",
      "\u001b[2K   \u001b[90m━━━━━━━━━━━━━━━━━━━━━━━━━━━━━━━━━━━━━━━━\u001b[0m \u001b[32m1.2/1.2 MB\u001b[0m \u001b[31m15.6 MB/s\u001b[0m eta \u001b[36m0:00:00\u001b[0m\n",
      "\u001b[?25hDownloading dnspython-2.7.0-py3-none-any.whl (313 kB)\n",
      "Installing collected packages: dnspython, pymongo\n",
      "\u001b[2K   \u001b[90m━━━━━━━━━━━━━━━━━━━━━━━━━━━━━━━━━━━━━━━━\u001b[0m \u001b[32m2/2\u001b[0m [pymongo]m1/2\u001b[0m [pymongo]\n",
      "\u001b[1A\u001b[2KSuccessfully installed dnspython-2.7.0 pymongo-4.12.1\n",
      "\u001b[33mWARNING: Running pip as the 'root' user can result in broken permissions and conflicting behaviour with the system package manager, possibly rendering your system unusable. It is recommended to use a virtual environment instead: https://pip.pypa.io/warnings/venv. Use the --root-user-action option if you know what you are doing and want to suppress this warning.\u001b[0m\u001b[33m\n",
      "\u001b[0m\n",
      "\u001b[1m[\u001b[0m\u001b[34;49mnotice\u001b[0m\u001b[1;39;49m]\u001b[0m\u001b[39;49m A new release of pip is available: \u001b[0m\u001b[31;49m25.1\u001b[0m\u001b[39;49m -> \u001b[0m\u001b[32;49m25.1.1\u001b[0m\n",
      "\u001b[1m[\u001b[0m\u001b[34;49mnotice\u001b[0m\u001b[1;39;49m]\u001b[0m\u001b[39;49m To update, run: \u001b[0m\u001b[32;49mpython3 -m pip install --upgrade pip\u001b[0m\n",
      "Note: you may need to restart the kernel to use updated packages.\n"
     ]
    }
   ],
   "source": [
    "%pip install pymongo"
   ]
  },
  {
   "cell_type": "markdown",
   "id": "fbf42441-9eea-44f8-99c4-bab8e6cc8bbf",
   "metadata": {},
   "source": [
    "Ajout des données dans mongo"
   ]
  },
  {
   "cell_type": "code",
   "execution_count": 55,
   "id": "9963d448-36f2-4f2e-97b0-bb115a34c3a0",
   "metadata": {},
   "outputs": [
    {
     "name": "stderr",
     "output_type": "stream",
     "text": [
      "25/05/05 16:46:09 WARN RowBasedKeyValueBatch: Calling spill() on RowBasedKeyValueBatch. Will not spill but return 0.\n",
      "25/05/05 16:46:09 WARN RowBasedKeyValueBatch: Calling spill() on RowBasedKeyValueBatch. Will not spill but return 0.\n",
      "25/05/05 16:46:09 WARN RowBasedKeyValueBatch: Calling spill() on RowBasedKeyValueBatch. Will not spill but return 0.\n",
      "25/05/05 16:46:09 WARN RowBasedKeyValueBatch: Calling spill() on RowBasedKeyValueBatch. Will not spill but return 0.\n",
      "25/05/05 16:46:09 WARN RowBasedKeyValueBatch: Calling spill() on RowBasedKeyValueBatch. Will not spill but return 0.\n",
      "25/05/05 16:46:09 WARN RowBasedKeyValueBatch: Calling spill() on RowBasedKeyValueBatch. Will not spill but return 0.\n",
      "25/05/05 16:46:09 WARN RowBasedKeyValueBatch: Calling spill() on RowBasedKeyValueBatch. Will not spill but return 0.\n",
      "25/05/05 16:46:09 WARN RowBasedKeyValueBatch: Calling spill() on RowBasedKeyValueBatch. Will not spill but return 0.\n",
      "25/05/05 16:46:09 WARN RowBasedKeyValueBatch: Calling spill() on RowBasedKeyValueBatch. Will not spill but return 0.\n",
      "25/05/05 16:46:09 WARN RowBasedKeyValueBatch: Calling spill() on RowBasedKeyValueBatch. Will not spill but return 0.\n",
      "25/05/05 16:46:09 WARN RowBasedKeyValueBatch: Calling spill() on RowBasedKeyValueBatch. Will not spill but return 0.\n",
      "25/05/05 16:46:09 WARN RowBasedKeyValueBatch: Calling spill() on RowBasedKeyValueBatch. Will not spill but return 0.\n",
      "25/05/05 16:46:18 WARN RowBasedKeyValueBatch: Calling spill() on RowBasedKeyValueBatch. Will not spill but return 0.\n",
      "25/05/05 16:46:18 WARN RowBasedKeyValueBatch: Calling spill() on RowBasedKeyValueBatch. Will not spill but return 0.\n",
      "25/05/05 16:46:18 WARN RowBasedKeyValueBatch: Calling spill() on RowBasedKeyValueBatch. Will not spill but return 0.\n",
      "25/05/05 16:46:18 WARN RowBasedKeyValueBatch: Calling spill() on RowBasedKeyValueBatch. Will not spill but return 0.\n",
      "25/05/05 16:46:18 WARN RowBasedKeyValueBatch: Calling spill() on RowBasedKeyValueBatch. Will not spill but return 0.\n",
      "25/05/05 16:46:18 WARN RowBasedKeyValueBatch: Calling spill() on RowBasedKeyValueBatch. Will not spill but return 0.\n",
      "25/05/05 16:46:18 WARN RowBasedKeyValueBatch: Calling spill() on RowBasedKeyValueBatch. Will not spill but return 0.\n",
      "25/05/05 16:46:18 WARN RowBasedKeyValueBatch: Calling spill() on RowBasedKeyValueBatch. Will not spill but return 0.\n",
      "25/05/05 16:46:18 WARN RowBasedKeyValueBatch: Calling spill() on RowBasedKeyValueBatch. Will not spill but return 0.\n",
      "25/05/05 16:46:18 WARN RowBasedKeyValueBatch: Calling spill() on RowBasedKeyValueBatch. Will not spill but return 0.\n",
      "25/05/05 16:46:18 WARN RowBasedKeyValueBatch: Calling spill() on RowBasedKeyValueBatch. Will not spill but return 0.\n",
      "25/05/05 16:46:18 WARN RowBasedKeyValueBatch: Calling spill() on RowBasedKeyValueBatch. Will not spill but return 0.\n",
      "                                                                                "
     ]
    },
    {
     "name": "stdout",
     "output_type": "stream",
     "text": [
      "✅ Données insérées dans MongoDB depuis result_df !\n"
     ]
    }
   ],
   "source": [
    "from pymongo import MongoClient\n",
    "\n",
    "data = result_df.select(\"user\", \"movie\", \"title\", \"prediction\") \\\n",
    "               .orderBy(col(\"prediction\").desc()) \\\n",
    "               .toPandas()\n",
    "\n",
    "client = MongoClient(\"mongodb://mongodb:27017/\")\n",
    "collection = client[\"reco_db\"][\"predictions\"]\n",
    "\n",
    "collection.insert_many(data.to_dict(orient=\"records\"))\n",
    "\n",
    "print(\"✅ Données insérées dans MongoDB depuis result_df !\")"
   ]
  },
  {
   "cell_type": "markdown",
   "id": "80b2b99e-c1ef-4723-8399-629933355e32",
   "metadata": {},
   "source": [
    "Liste des données sur un utilisateur"
   ]
  },
  {
   "cell_type": "code",
   "execution_count": 39,
   "id": "d3526bf9-70a7-4ce5-ae16-8f7c220fab65",
   "metadata": {},
   "outputs": [
    {
     "name": "stdout",
     "output_type": "stream",
     "text": [
      "{'_id': ObjectId('6818e74af6c9bcb75671436e'), 'user': 1, 'movie': 260, 'title': 'Star Wars: Episode IV - A New Hope (1977)', 'prediction': 4.211145877838135}\n",
      "{'_id': ObjectId('6818e74af6c9bcb75671436f'), 'user': 1, 'movie': 7153, 'title': 'Lord of the Rings: The Return of the King, The (2003)', 'prediction': 4.198111534118652}\n",
      "{'_id': ObjectId('6818e74af6c9bcb756714370'), 'user': 1, 'movie': 1196, 'title': 'Star Wars: Episode V - The Empire Strikes Back (1980)', 'prediction': 4.19518518447876}\n",
      "{'_id': ObjectId('6818e74af6c9bcb756714371'), 'user': 1, 'movie': 4993, 'title': 'Lord of the Rings: The Fellowship of the Ring, The (2001)', 'prediction': 4.194088935852051}\n",
      "{'_id': ObjectId('6818e74af6c9bcb756714372'), 'user': 1, 'movie': 2571, 'title': 'Matrix, The (1999)', 'prediction': 4.167355537414551}\n",
      "{'_id': ObjectId('6818e74af6c9bcb756714373'), 'user': 1, 'movie': 5952, 'title': 'Lord of the Rings: The Two Towers, The (2002)', 'prediction': 4.165389060974121}\n",
      "{'_id': ObjectId('6818e74af6c9bcb756714374'), 'user': 1, 'movie': 318, 'title': 'Shawshank Redemption, The (1994)', 'prediction': 4.164724826812744}\n",
      "{'_id': ObjectId('6818e74af6c9bcb756714375'), 'user': 1, 'movie': 1198, 'title': 'Raiders of the Lost Ark (Indiana Jones and the Raiders of the Lost Ark) (1981)', 'prediction': 4.1432085037231445}\n",
      "{'_id': ObjectId('6818e74af6c9bcb756714376'), 'user': 1, 'movie': 1210, 'title': 'Star Wars: Episode VI - Return of the Jedi (1983)', 'prediction': 4.125829696655273}\n",
      "{'_id': ObjectId('6818e74af6c9bcb756714377'), 'user': 1, 'movie': 1197, 'title': 'Princess Bride, The (1987)', 'prediction': 4.0783610343933105}\n",
      "{'_id': ObjectId('6818e74af6c9bcb756714378'), 'user': 1, 'movie': 1291, 'title': 'Indiana Jones and the Last Crusade (1989)', 'prediction': 4.0536789894104}\n",
      "{'_id': ObjectId('6818e74af6c9bcb756714379'), 'user': 1, 'movie': 50, 'title': 'Usual Suspects, The (1995)', 'prediction': 4.03197717666626}\n",
      "{'_id': ObjectId('6818e74af6c9bcb75671437a'), 'user': 1, 'movie': 6539, 'title': 'Pirates of the Caribbean: The Curse of the Black Pearl (2003)', 'prediction': 4.028440475463867}\n",
      "{'_id': ObjectId('6818e74af6c9bcb75671437b'), 'user': 1, 'movie': 1136, 'title': 'Monty Python and the Holy Grail (1975)', 'prediction': 3.9915833473205566}\n",
      "{'_id': ObjectId('6818e74af6c9bcb75671437c'), 'user': 1, 'movie': 2959, 'title': 'Fight Club (1999)', 'prediction': 3.986844062805176}\n",
      "{'_id': ObjectId('6818e74af6c9bcb75671437d'), 'user': 1, 'movie': 589, 'title': 'Terminator 2: Judgment Day (1991)', 'prediction': 3.972426414489746}\n",
      "{'_id': ObjectId('6818e74af6c9bcb75671437e'), 'user': 1, 'movie': 1200, 'title': 'Aliens (1986)', 'prediction': 3.9627509117126465}\n",
      "{'_id': ObjectId('6818e74af6c9bcb75671437f'), 'user': 1, 'movie': 293, 'title': 'Léon: The Professional (a.k.a. The Professional) (Léon) (1994)', 'prediction': 3.948667049407959}\n",
      "{'_id': ObjectId('6818e74af6c9bcb756714380'), 'user': 1, 'movie': 1270, 'title': 'Back to the Future (1985)', 'prediction': 3.943302631378174}\n",
      "{'_id': ObjectId('6818e74af6c9bcb756714381'), 'user': 1, 'movie': 2762, 'title': 'Sixth Sense, The (1999)', 'prediction': 3.9207448959350586}\n",
      "{'_id': ObjectId('6818e74af6c9bcb756714382'), 'user': 1, 'movie': 527, 'title': \"Schindler's List (1993)\", 'prediction': 3.9197494983673096}\n",
      "{'_id': ObjectId('6818e74af6c9bcb756714383'), 'user': 1, 'movie': 1036, 'title': 'Die Hard (1988)', 'prediction': 3.914247989654541}\n",
      "{'_id': ObjectId('6818e74af6c9bcb756714384'), 'user': 1, 'movie': 1214, 'title': 'Alien (1979)', 'prediction': 3.9076859951019287}\n",
      "{'_id': ObjectId('6818e74af6c9bcb756714385'), 'user': 1, 'movie': 4226, 'title': 'Memento (2000)', 'prediction': 3.904160976409912}\n",
      "{'_id': ObjectId('6818e74af6c9bcb756714386'), 'user': 1, 'movie': 593, 'title': 'Silence of the Lambs, The (1991)', 'prediction': 3.9013564586639404}\n",
      "{'_id': ObjectId('6818e74af6c9bcb756714387'), 'user': 1, 'movie': 1527, 'title': 'Fifth Element, The (1997)', 'prediction': 3.8911476135253906}\n",
      "{'_id': ObjectId('6818e74af6c9bcb756714388'), 'user': 1, 'movie': 541, 'title': 'Blade Runner (1982)', 'prediction': 3.8896965980529785}\n",
      "{'_id': ObjectId('6818e74af6c9bcb756714389'), 'user': 1, 'movie': 1240, 'title': 'Terminator, The (1984)', 'prediction': 3.8817625045776367}\n",
      "{'_id': ObjectId('6818e74af6c9bcb75671438a'), 'user': 1, 'movie': 110, 'title': 'Braveheart (1995)', 'prediction': 3.8765177726745605}\n",
      "{'_id': ObjectId('6818e74af6c9bcb75671438b'), 'user': 1, 'movie': 858, 'title': 'Godfather, The (1972)', 'prediction': 3.869666814804077}\n",
      "{'_id': ObjectId('6818e74af6c9bcb75671438c'), 'user': 1, 'movie': 3578, 'title': 'Gladiator (2000)', 'prediction': 3.8644590377807617}\n",
      "{'_id': ObjectId('6818e74af6c9bcb75671438d'), 'user': 1, 'movie': 4306, 'title': 'Shrek (2001)', 'prediction': 3.858747959136963}\n",
      "{'_id': ObjectId('6818e74af6c9bcb75671438e'), 'user': 1, 'movie': 47, 'title': 'Seven (a.k.a. Se7en) (1995)', 'prediction': 3.8577661514282227}\n",
      "{'_id': ObjectId('6818e74af6c9bcb75671438f'), 'user': 1, 'movie': 1, 'title': 'Toy Story (1995)', 'prediction': 3.833176851272583}\n",
      "{'_id': ObjectId('6818e74af6c9bcb756714390'), 'user': 1, 'movie': 457, 'title': 'Fugitive, The (1993)', 'prediction': 3.825852394104004}\n",
      "{'_id': ObjectId('6818e74af6c9bcb756714391'), 'user': 1, 'movie': 356, 'title': 'Forrest Gump (1994)', 'prediction': 3.8117783069610596}\n",
      "{'_id': ObjectId('6818e74af6c9bcb756714392'), 'user': 1, 'movie': 3793, 'title': 'X-Men (2000)', 'prediction': 3.8087069988250732}\n",
      "{'_id': ObjectId('6818e74af6c9bcb756714393'), 'user': 1, 'movie': 2716, 'title': 'Ghostbusters (a.k.a. Ghost Busters) (1984)', 'prediction': 3.8064844608306885}\n",
      "{'_id': ObjectId('6818e74af6c9bcb756714394'), 'user': 1, 'movie': 1193, 'title': \"One Flew Over the Cuckoo's Nest (1975)\", 'prediction': 3.7882533073425293}\n",
      "{'_id': ObjectId('6818e74af6c9bcb756714395'), 'user': 1, 'movie': 2028, 'title': 'Saving Private Ryan (1998)', 'prediction': 3.7881019115448}\n",
      "{'_id': ObjectId('6818e74af6c9bcb756714396'), 'user': 1, 'movie': 364, 'title': 'Lion King, The (1994)', 'prediction': 3.7870447635650635}\n",
      "{'_id': ObjectId('6818e74af6c9bcb756714397'), 'user': 1, 'movie': 1704, 'title': 'Good Will Hunting (1997)', 'prediction': 3.780844211578369}\n",
      "{'_id': ObjectId('6818e74af6c9bcb756714398'), 'user': 1, 'movie': 32, 'title': 'Twelve Monkeys (a.k.a. 12 Monkeys) (1995)', 'prediction': 3.779759168624878}\n",
      "{'_id': ObjectId('6818e74af6c9bcb756714399'), 'user': 1, 'movie': 296, 'title': 'Pulp Fiction (1994)', 'prediction': 3.7698702812194824}\n",
      "{'_id': ObjectId('6818e74af6c9bcb75671439a'), 'user': 1, 'movie': 1221, 'title': 'Godfather: Part II, The (1974)', 'prediction': 3.763979196548462}\n",
      "{'_id': ObjectId('6818e74af6c9bcb75671439b'), 'user': 1, 'movie': 1213, 'title': 'Goodfellas (1990)', 'prediction': 3.75821852684021}\n",
      "{'_id': ObjectId('6818e74af6c9bcb75671439c'), 'user': 1, 'movie': 3996, 'title': 'Crouching Tiger, Hidden Dragon (Wo hu cang long) (2000)', 'prediction': 3.755368232727051}\n",
      "{'_id': ObjectId('6818e74af6c9bcb75671439d'), 'user': 1, 'movie': 1265, 'title': 'Groundhog Day (1993)', 'prediction': 3.755049228668213}\n",
      "{'_id': ObjectId('6818e74af6c9bcb75671439e'), 'user': 1, 'movie': 480, 'title': 'Jurassic Park (1993)', 'prediction': 3.7392799854278564}\n",
      "{'_id': ObjectId('6818e74af6c9bcb75671439f'), 'user': 1, 'movie': 588, 'title': 'Aladdin (1992)', 'prediction': 3.735124111175537}\n",
      "{'_id': ObjectId('6818e74af6c9bcb7567143a0'), 'user': 1, 'movie': 1617, 'title': 'L.A. Confidential (1997)', 'prediction': 3.717101573944092}\n",
      "{'_id': ObjectId('6818e74af6c9bcb7567143a1'), 'user': 1, 'movie': 1580, 'title': 'Men in Black (a.k.a. MIB) (1997)', 'prediction': 3.715221405029297}\n",
      "{'_id': ObjectId('6818e74af6c9bcb7567143a2'), 'user': 1, 'movie': 733, 'title': 'Rock, The (1996)', 'prediction': 3.7112393379211426}\n",
      "{'_id': ObjectId('6818e74af6c9bcb7567143a3'), 'user': 1, 'movie': 1089, 'title': 'Reservoir Dogs (1992)', 'prediction': 3.707869291305542}\n",
      "{'_id': ObjectId('6818e74af6c9bcb7567143a4'), 'user': 1, 'movie': 2858, 'title': 'American Beauty (1999)', 'prediction': 3.691236972808838}\n",
      "{'_id': ObjectId('6818e74af6c9bcb7567143a5'), 'user': 1, 'movie': 150, 'title': 'Apollo 13 (1995)', 'prediction': 3.6787912845611572}\n",
      "{'_id': ObjectId('6818e74af6c9bcb7567143a6'), 'user': 1, 'movie': 253, 'title': 'Interview with the Vampire: The Vampire Chronicles (1994)', 'prediction': 3.6740052700042725}\n",
      "{'_id': ObjectId('6818e74af6c9bcb7567143a7'), 'user': 1, 'movie': 1961, 'title': 'Rain Man (1988)', 'prediction': 3.670297622680664}\n",
      "{'_id': ObjectId('6818e74af6c9bcb7567143a8'), 'user': 1, 'movie': 1073, 'title': 'Willy Wonka & the Chocolate Factory (1971)', 'prediction': 3.6647274494171143}\n",
      "{'_id': ObjectId('6818e74af6c9bcb7567143a9'), 'user': 1, 'movie': 316, 'title': 'Stargate (1994)', 'prediction': 3.6493306159973145}\n",
      "{'_id': ObjectId('6818e74af6c9bcb7567143aa'), 'user': 1, 'movie': 595, 'title': 'Beauty and the Beast (1991)', 'prediction': 3.594571590423584}\n",
      "{'_id': ObjectId('6818e74af6c9bcb7567143ab'), 'user': 1, 'movie': 165, 'title': 'Die Hard: With a Vengeance (1995)', 'prediction': 3.590177536010742}\n",
      "{'_id': ObjectId('6818e74af6c9bcb7567143ac'), 'user': 1, 'movie': 1097, 'title': 'E.T. the Extra-Terrestrial (1982)', 'prediction': 3.5854406356811523}\n",
      "{'_id': ObjectId('6818e74af6c9bcb7567143ad'), 'user': 1, 'movie': 111, 'title': 'Taxi Driver (1976)', 'prediction': 3.5767219066619873}\n",
      "{'_id': ObjectId('6818e74af6c9bcb7567143ae'), 'user': 1, 'movie': 924, 'title': '2001: A Space Odyssey (1968)', 'prediction': 3.571216106414795}\n",
      "{'_id': ObjectId('6818e74af6c9bcb7567143af'), 'user': 1, 'movie': 592, 'title': 'Batman (1989)', 'prediction': 3.5686745643615723}\n",
      "{'_id': ObjectId('6818e74af6c9bcb7567143b0'), 'user': 1, 'movie': 608, 'title': 'Fargo (1996)', 'prediction': 3.566911220550537}\n",
      "{'_id': ObjectId('6818e74af6c9bcb7567143b1'), 'user': 1, 'movie': 349, 'title': 'Clear and Present Danger (1994)', 'prediction': 3.560976028442383}\n",
      "{'_id': ObjectId('6818e74af6c9bcb7567143b2'), 'user': 1, 'movie': 380, 'title': 'True Lies (1994)', 'prediction': 3.560427665710449}\n",
      "{'_id': ObjectId('6818e74af6c9bcb7567143b3'), 'user': 1, 'movie': 780, 'title': 'Independence Day (a.k.a. ID4) (1996)', 'prediction': 3.542821168899536}\n",
      "{'_id': ObjectId('6818e74af6c9bcb7567143b4'), 'user': 1, 'movie': 10, 'title': 'GoldenEye (1995)', 'prediction': 3.540330410003662}\n",
      "{'_id': ObjectId('6818e74af6c9bcb7567143b5'), 'user': 1, 'movie': 1206, 'title': 'Clockwork Orange, A (1971)', 'prediction': 3.535155773162842}\n",
      "{'_id': ObjectId('6818e74af6c9bcb7567143b6'), 'user': 1, 'movie': 2997, 'title': 'Being John Malkovich (1999)', 'prediction': 3.5184106826782227}\n",
      "{'_id': ObjectId('6818e74af6c9bcb7567143b7'), 'user': 1, 'movie': 329, 'title': 'Star Trek: Generations (1994)', 'prediction': 3.516195297241211}\n",
      "{'_id': ObjectId('6818e74af6c9bcb7567143b8'), 'user': 1, 'movie': 377, 'title': 'Speed (1994)', 'prediction': 3.4768452644348145}\n",
      "{'_id': ObjectId('6818e74af6c9bcb7567143b9'), 'user': 1, 'movie': 2396, 'title': 'Shakespeare in Love (1998)', 'prediction': 3.4725887775421143}\n",
      "{'_id': ObjectId('6818e74af6c9bcb7567143ba'), 'user': 1, 'movie': 590, 'title': 'Dances with Wolves (1990)', 'prediction': 3.46771502494812}\n",
      "{'_id': ObjectId('6818e74af6c9bcb7567143bb'), 'user': 1, 'movie': 648, 'title': 'Mission: Impossible (1996)', 'prediction': 3.434847116470337}\n",
      "{'_id': ObjectId('6818e74af6c9bcb7567143bc'), 'user': 1, 'movie': 292, 'title': 'Outbreak (1995)', 'prediction': 3.40822172164917}\n",
      "{'_id': ObjectId('6818e74af6c9bcb7567143bd'), 'user': 1, 'movie': 454, 'title': 'Firm, The (1993)', 'prediction': 3.3782801628112793}\n",
      "{'_id': ObjectId('6818e74af6c9bcb7567143be'), 'user': 1, 'movie': 2628, 'title': 'Star Wars: Episode I - The Phantom Menace (1999)', 'prediction': 3.3688602447509766}\n",
      "{'_id': ObjectId('6818e74af6c9bcb7567143bf'), 'user': 1, 'movie': 1923, 'title': \"There's Something About Mary (1998)\", 'prediction': 3.361948251724243}\n",
      "{'_id': ObjectId('6818e74af6c9bcb7567143c0'), 'user': 1, 'movie': 587, 'title': 'Ghost (1990)', 'prediction': 3.3380730152130127}\n",
      "{'_id': ObjectId('6818e74af6c9bcb7567143c1'), 'user': 1, 'movie': 34, 'title': 'Babe (1995)', 'prediction': 3.3146145343780518}\n",
      "{'_id': ObjectId('6818e74af6c9bcb7567143c2'), 'user': 1, 'movie': 357, 'title': 'Four Weddings and a Funeral (1994)', 'prediction': 3.3131062984466553}\n",
      "{'_id': ObjectId('6818e74af6c9bcb7567143c3'), 'user': 1, 'movie': 500, 'title': 'Mrs. Doubtfire (1993)', 'prediction': 3.3004021644592285}\n",
      "{'_id': ObjectId('6818e74af6c9bcb7567143c4'), 'user': 1, 'movie': 39, 'title': 'Clueless (1995)', 'prediction': 3.298908233642578}\n",
      "{'_id': ObjectId('6818e74af6c9bcb7567143c5'), 'user': 1, 'movie': 1721, 'title': 'Titanic (1997)', 'prediction': 3.2958357334136963}\n",
      "{'_id': ObjectId('6818e74af6c9bcb7567143c6'), 'user': 1, 'movie': 597, 'title': 'Pretty Woman (1990)', 'prediction': 3.28857421875}\n",
      "{'_id': ObjectId('6818e74af6c9bcb7567143c7'), 'user': 1, 'movie': 539, 'title': 'Sleepless in Seattle (1993)', 'prediction': 3.2660446166992188}\n",
      "{'_id': ObjectId('6818e74af6c9bcb7567143c8'), 'user': 1, 'movie': 736, 'title': 'Twister (1996)', 'prediction': 3.255417585372925}\n",
      "{'_id': ObjectId('6818e74af6c9bcb7567143c9'), 'user': 1, 'movie': 367, 'title': 'Mask, The (1994)', 'prediction': 3.244464874267578}\n",
      "{'_id': ObjectId('6818e74af6c9bcb7567143ca'), 'user': 1, 'movie': 2683, 'title': 'Austin Powers: The Spy Who Shagged Me (1999)', 'prediction': 3.227625846862793}\n",
      "{'_id': ObjectId('6818e74af6c9bcb7567143cb'), 'user': 1, 'movie': 586, 'title': 'Home Alone (1990)', 'prediction': 3.1636362075805664}\n",
      "{'_id': ObjectId('6818e74af6c9bcb7567143cc'), 'user': 1, 'movie': 185, 'title': 'Net, The (1995)', 'prediction': 3.093679666519165}\n",
      "{'_id': ObjectId('6818e74af6c9bcb7567143cd'), 'user': 1, 'movie': 434, 'title': 'Cliffhanger (1993)', 'prediction': 3.071014165878296}\n",
      "{'_id': ObjectId('6818e74af6c9bcb7567143ce'), 'user': 1, 'movie': 344, 'title': 'Ace Ventura: Pet Detective (1994)', 'prediction': 3.0605671405792236}\n",
      "{'_id': ObjectId('6818e74af6c9bcb7567143cf'), 'user': 1, 'movie': 208, 'title': 'Waterworld (1995)', 'prediction': 3.044052839279175}\n",
      "{'_id': ObjectId('6818e74af6c9bcb7567143d0'), 'user': 1, 'movie': 153, 'title': 'Batman Forever (1995)', 'prediction': 3.0368590354919434}\n",
      "{'_id': ObjectId('6818e74af6c9bcb7567143d1'), 'user': 1, 'movie': 231, 'title': 'Dumb & Dumber (Dumb and Dumber) (1994)', 'prediction': 2.9484994411468506}\n"
     ]
    }
   ],
   "source": [
    "for doc in collection.find({\"user\": 1}):\n",
    "    print(doc)"
   ]
  },
  {
   "cell_type": "markdown",
   "id": "4b93f12f-8d03-4bc6-9ac9-5ec4c1caab51",
   "metadata": {},
   "source": [
    "Suppression des données si besoin"
   ]
  },
  {
   "cell_type": "code",
   "execution_count": 31,
   "id": "f04a753c-3ad8-47ab-a7ee-bb99205cdaea",
   "metadata": {},
   "outputs": [],
   "source": [
    "#from pymongo import MongoClient\n",
    "\n",
    "# Connexion à MongoDB\n",
    "#client = MongoClient(\"mongodb://mongodb:27017/\")  # ou \"mongodb://mongodb:27017/\" si tu es dans un conteneur\n",
    "\n",
    "# Cibler la base et la collection\n",
    "#db = client[\"reco_db\"]\n",
    "#collection = db[\"predictions\"]\n",
    "\n",
    "# Supprimer les documents avec user = 29\n",
    "#delete_result = collection.delete_many({\"user\": 29})\n",
    "\n",
    "#print(f\"✅ {delete_result.deleted_count} documents supprimés.\")"
   ]
  }
 ],
 "metadata": {
  "kernelspec": {
   "display_name": "Python 3 (ipykernel)",
   "language": "python",
   "name": "python3"
  },
  "language_info": {
   "codemirror_mode": {
    "name": "ipython",
    "version": 3
   },
   "file_extension": ".py",
   "mimetype": "text/x-python",
   "name": "python",
   "nbconvert_exporter": "python",
   "pygments_lexer": "ipython3",
   "version": "3.10.12"
  }
 },
 "nbformat": 4,
 "nbformat_minor": 5
}
