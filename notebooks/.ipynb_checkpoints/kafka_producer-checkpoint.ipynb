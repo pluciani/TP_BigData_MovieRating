{
 "cells": [
  {
   "cell_type": "code",
   "execution_count": 1,
   "id": "55bb8627-990d-42df-869e-52def20d059e",
   "metadata": {},
   "outputs": [],
   "source": [
    "from kafka import KafkaProducer\n",
    "import json\n",
    "import time\n",
    "import random"
   ]
  },
  {
   "cell_type": "code",
   "execution_count": 2,
   "id": "8f0cd1db-03b3-4abf-b0af-1669f64070f0",
   "metadata": {},
   "outputs": [],
   "source": [
    "# Configuration de Kafka\n",
    "KAFKA_BROKER = 'localhost:9092'  # Remplacez par l'adresse de votre broker Kafka\n",
    "TOPIC_NAME = 'movielens_ratings' "
   ]
  },
  {
   "cell_type": "code",
   "execution_count": 3,
   "id": "2d56e7a7-2ac2-4970-bb2e-89961322dba2",
   "metadata": {},
   "outputs": [],
   "source": [
    "producer = KafkaProducer(bootstrap_servers=KAFKA_BROKER, value_serializer=lambda v: json.dumps(v).encode('utf-8'))"
   ]
  },
  {
   "cell_type": "code",
   "execution_count": 4,
   "id": "34eb4e46-0abb-45f2-be5d-cc41d940e781",
   "metadata": {},
   "outputs": [],
   "source": [
    "# Fonction de simulation des notes\n",
    "# def generate_rating():\n",
    "#     user_id = random.choice(list(range(1000)))\n",
    "#     movie_id = random.choice(list(range(1000)))\n",
    "#     rating = round(random.uniform(0.5, 5.0), 1)  # Note entre 0.5 et 5.0\n",
    "#     timestamp = int(time.time())  # Timestamp actuel\n",
    "#     return {\n",
    "#         'userId': user_id,\n",
    "#         'movieId': movie_id\n",
    "#         'rating': rating,\n",
    "#         'timestamp': timestamp\n",
    "#     }"
   ]
  },
  {
   "cell_type": "code",
   "execution_count": 5,
   "id": "e111e192-c7bb-4b3a-9b62-43c2390bf2e9",
   "metadata": {},
   "outputs": [],
   "source": [
    "#movie 47\n",
    "#user 95\n",
    "#train\n",
    "\n",
    "#1|   8|\n",
    "#test\n",
    "def generate_rating():\n",
    "    #user_id = random.choice(list(range(1000)))\n",
    "    #movie_id = random.choice(list(range(1000)))\n",
    "    #rating = round(random.uniform(0.5, 5.0), 1)  # Note entre 0.5 et 5.0\n",
    "    #timestamp = int(time.time())  # Timestamp actuel\n",
    "    return {        \n",
    "        'movie': 1,\n",
    "        'user': 58\n",
    "    }"
   ]
  },
  {
   "cell_type": "code",
   "execution_count": null,
   "id": "741801ec-1d76-43c7-b6f5-2acc61ee3ce7",
   "metadata": {},
   "outputs": [
    {
     "name": "stdout",
     "output_type": "stream",
     "text": [
      "Envoi des messages à Kafka sur le topic 'movielens_ratings'...\n",
      "Message envoyé: {'user': 8, 'movie': 1}\n",
      "Message envoyé: {'user': 8, 'movie': 1}\n",
      "Message envoyé: {'user': 8, 'movie': 1}\n",
      "Message envoyé: {'user': 8, 'movie': 1}\n",
      "Message envoyé: {'user': 8, 'movie': 1}\n",
      "Message envoyé: {'user': 8, 'movie': 1}\n",
      "Message envoyé: {'user': 8, 'movie': 1}\n",
      "Message envoyé: {'user': 8, 'movie': 1}\n",
      "Message envoyé: {'user': 8, 'movie': 1}\n",
      "Message envoyé: {'user': 8, 'movie': 1}\n",
      "Message envoyé: {'user': 8, 'movie': 1}\n",
      "Message envoyé: {'user': 8, 'movie': 1}\n",
      "Message envoyé: {'user': 8, 'movie': 1}\n",
      "Message envoyé: {'user': 8, 'movie': 1}\n",
      "Message envoyé: {'user': 8, 'movie': 1}\n",
      "Message envoyé: {'user': 8, 'movie': 1}\n",
      "Message envoyé: {'user': 8, 'movie': 1}\n",
      "Message envoyé: {'user': 8, 'movie': 1}\n",
      "Message envoyé: {'user': 8, 'movie': 1}\n",
      "Message envoyé: {'user': 8, 'movie': 1}\n",
      "Message envoyé: {'user': 8, 'movie': 1}\n",
      "Message envoyé: {'user': 8, 'movie': 1}\n",
      "Message envoyé: {'user': 8, 'movie': 1}\n",
      "Message envoyé: {'user': 8, 'movie': 1}\n",
      "Message envoyé: {'user': 8, 'movie': 1}\n",
      "Message envoyé: {'user': 8, 'movie': 1}\n",
      "Message envoyé: {'user': 8, 'movie': 1}\n",
      "Message envoyé: {'user': 8, 'movie': 1}\n",
      "Message envoyé: {'user': 8, 'movie': 1}\n",
      "Message envoyé: {'user': 8, 'movie': 1}\n",
      "Message envoyé: {'user': 8, 'movie': 1}\n",
      "Message envoyé: {'user': 8, 'movie': 1}\n",
      "Message envoyé: {'user': 8, 'movie': 1}\n",
      "Message envoyé: {'user': 8, 'movie': 1}\n",
      "Message envoyé: {'user': 8, 'movie': 1}\n",
      "Message envoyé: {'user': 8, 'movie': 1}\n",
      "Message envoyé: {'user': 8, 'movie': 1}\n",
      "Message envoyé: {'user': 8, 'movie': 1}\n"
     ]
    }
   ],
   "source": [
    "# Envoi des messages à Kafka\n",
    "try:\n",
    "    print(f\"Envoi des messages à Kafka sur le topic '{TOPIC_NAME}'...\")\n",
    "    while True:\n",
    "        message = generate_rating()\n",
    "        producer.send(TOPIC_NAME, value=message)\n",
    "        print(f\"Message envoyé: {message}\")\n",
    "        time.sleep(random.uniform(2.0, 5.0))  # Envoi toutes les 2 à 5 secondes\n",
    "except KeyboardInterrupt:\n",
    "    print(\"Simulation arrêtée.\")\n",
    "except Exception as e:\n",
    "    print(f\"Erreur lors de l'envoi: {e}\")\n",
    "finally:\n",
    "    producer.close()"
   ]
  },
  {
   "cell_type": "code",
   "execution_count": null,
   "id": "fbd93933-bc59-4407-917f-b40bbbd1e7ad",
   "metadata": {},
   "outputs": [],
   "source": []
  }
 ],
 "metadata": {
  "kernelspec": {
   "display_name": "Python 3 (ipykernel)",
   "language": "python",
   "name": "python3"
  },
  "language_info": {
   "codemirror_mode": {
    "name": "ipython",
    "version": 3
   },
   "file_extension": ".py",
   "mimetype": "text/x-python",
   "name": "python",
   "nbconvert_exporter": "python",
   "pygments_lexer": "ipython3",
   "version": "3.10.12"
  }
 },
 "nbformat": 4,
 "nbformat_minor": 5
}
