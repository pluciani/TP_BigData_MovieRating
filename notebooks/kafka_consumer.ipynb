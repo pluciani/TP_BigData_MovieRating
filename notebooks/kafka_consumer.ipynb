{
 "cells": [
  {
   "cell_type": "code",
   "execution_count": 1,
   "id": "b95e8f53-dfce-424a-b5b1-1d7c3511701d",
   "metadata": {},
   "outputs": [],
   "source": [
    "from kafka import KafkaConsumer\n",
    "import json"
   ]
  },
  {
   "cell_type": "code",
   "execution_count": 2,
   "id": "92218560-dffb-445f-ba8f-79c1d68c3f3f",
   "metadata": {},
   "outputs": [],
   "source": [
    "c = KafkaConsumer('movielens_ratings' , bootstrap_servers=['localhost:9092'])"
   ]
  },
  {
   "cell_type": "code",
   "execution_count": 3,
   "id": "f9937ad5-207a-40ff-9620-a3b40c4f8ed7",
   "metadata": {},
   "outputs": [],
   "source": [
    "def process_msg(msg):\n",
    "    print(msg.offset)\n",
    "    dico = dict(json.loads(msg.value))\n",
    "    print(dico)"
   ]
  },
  {
   "cell_type": "code",
   "execution_count": null,
   "id": "897ff0af-c6ba-4671-9be9-0e6e23888cff",
   "metadata": {},
   "outputs": [
    {
     "name": "stdout",
     "output_type": "stream",
     "text": [
      "0\n",
      "{'userId': 824, 'movieId': 376, 'rating': 0.9, 'timestamp': 1746026910}\n",
      "1\n",
      "{'userId': 864, 'movieId': 413, 'rating': 1.5, 'timestamp': 1746026915}\n",
      "2\n",
      "{'userId': 249, 'movieId': 556, 'rating': 1.5, 'timestamp': 1746026919}\n",
      "3\n",
      "{'userId': 367, 'movieId': 401, 'rating': 4.5, 'timestamp': 1746026922}\n",
      "4\n",
      "{'userId': 223, 'movieId': 861, 'rating': 3.4, 'timestamp': 1746026927}\n",
      "5\n",
      "{'userId': 277, 'movieId': 376, 'rating': 2.9, 'timestamp': 1746026929}\n",
      "6\n",
      "{'userId': 657, 'movieId': 57, 'rating': 2.1, 'timestamp': 1746026932}\n",
      "7\n",
      "{'userId': 817, 'movieId': 732, 'rating': 4.4, 'timestamp': 1746026935}\n",
      "8\n",
      "{'userId': 115, 'movieId': 178, 'rating': 2.1, 'timestamp': 1746026940}\n",
      "9\n",
      "{'userId': 724, 'movieId': 419, 'rating': 2.9, 'timestamp': 1746026944}\n",
      "10\n",
      "{'userId': 93, 'movieId': 940, 'rating': 2.8, 'timestamp': 1746026947}\n",
      "11\n",
      "{'userId': 531, 'movieId': 411, 'rating': 4.1, 'timestamp': 1746026950}\n",
      "12\n",
      "{'userId': 977, 'movieId': 980, 'rating': 4.7, 'timestamp': 1746026954}\n",
      "13\n",
      "{'userId': 51, 'movieId': 207, 'rating': 1.2, 'timestamp': 1746026957}\n",
      "14\n",
      "{'userId': 5, 'movieId': 310, 'rating': 4.3, 'timestamp': 1746026961}\n",
      "15\n",
      "{'userId': 211, 'movieId': 164, 'rating': 0.6, 'timestamp': 1746026965}\n",
      "16\n",
      "{'userId': 508, 'movieId': 168, 'rating': 1.9, 'timestamp': 1746026969}\n",
      "17\n",
      "{'userId': 190, 'movieId': 461, 'rating': 1.6, 'timestamp': 1746026973}\n",
      "18\n",
      "{'userId': 434, 'movieId': 424, 'rating': 2.6, 'timestamp': 1746026976}\n",
      "19\n",
      "{'userId': 706, 'movieId': 881, 'rating': 1.1, 'timestamp': 1746026980}\n",
      "20\n",
      "{'userId': 221, 'movieId': 1, 'rating': 1.1, 'timestamp': 1746026983}\n",
      "21\n",
      "{'userId': 708, 'movieId': 336, 'rating': 4.5, 'timestamp': 1746026987}\n",
      "22\n",
      "{'userId': 444, 'movieId': 378, 'rating': 3.4, 'timestamp': 1746026989}\n",
      "23\n",
      "{'userId': 352, 'movieId': 507, 'rating': 2.5, 'timestamp': 1746026994}\n",
      "24\n",
      "{'userId': 650, 'movieId': 499, 'rating': 3.2, 'timestamp': 1746026996}\n",
      "25\n",
      "{'userId': 831, 'movieId': 343, 'rating': 3.2, 'timestamp': 1746026999}\n",
      "26\n",
      "{'userId': 194, 'movieId': 800, 'rating': 4.6, 'timestamp': 1746027001}\n",
      "27\n",
      "{'userId': 232, 'movieId': 20, 'rating': 1.7, 'timestamp': 1746027004}\n",
      "28\n",
      "{'userId': 274, 'movieId': 580, 'rating': 3.1, 'timestamp': 1746027006}\n",
      "29\n",
      "{'userId': 918, 'movieId': 216, 'rating': 4.2, 'timestamp': 1746027010}\n"
     ]
    }
   ],
   "source": [
    "for msg in c:\n",
    "    process_msg(msg)"
   ]
  },
  {
   "cell_type": "code",
   "execution_count": null,
   "id": "70e0fd42-40f8-496f-a114-0ba438b90a27",
   "metadata": {},
   "outputs": [],
   "source": []
  }
 ],
 "metadata": {
  "kernelspec": {
   "display_name": "Python 3 (ipykernel)",
   "language": "python",
   "name": "python3"
  },
  "language_info": {
   "codemirror_mode": {
    "name": "ipython",
    "version": 3
   },
   "file_extension": ".py",
   "mimetype": "text/x-python",
   "name": "python",
   "nbconvert_exporter": "python",
   "pygments_lexer": "ipython3",
   "version": "3.10.12"
  }
 },
 "nbformat": 4,
 "nbformat_minor": 5
}
