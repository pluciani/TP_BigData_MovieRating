{
 "cells": [
  {
   "cell_type": "code",
   "execution_count": 1,
   "id": "b95e8f53-dfce-424a-b5b1-1d7c3511701d",
   "metadata": {},
   "outputs": [],
   "source": [
    "from kafka import KafkaConsumer\n",
    "import json"
   ]
  },
  {
   "cell_type": "code",
   "execution_count": 2,
   "id": "92218560-dffb-445f-ba8f-79c1d68c3f3f",
   "metadata": {},
   "outputs": [],
   "source": [
    "c = KafkaConsumer('movielens_ratings' , bootstrap_servers=['localhost:9092'])"
   ]
  },
  {
   "cell_type": "code",
   "execution_count": 3,
   "id": "f9937ad5-207a-40ff-9620-a3b40c4f8ed7",
   "metadata": {},
   "outputs": [],
   "source": [
    "def process_msg(msg):\n",
    "    print(msg.offset)\n",
    "    dico = dict(json.loads(msg.value))\n",
    "    print(dico)"
   ]
  },
  {
   "cell_type": "code",
   "execution_count": null,
   "id": "897ff0af-c6ba-4671-9be9-0e6e23888cff",
   "metadata": {},
   "outputs": [
    {
     "name": "stdout",
     "output_type": "stream",
     "text": [
      "2\n",
      "{'userId': 557, 'movieId': 720, 'rating': 2.6, 'timestamp': 1746181251}\n",
      "3\n",
      "{'userId': 676, 'movieId': 743, 'rating': 2.7, 'timestamp': 1746181254}\n",
      "4\n",
      "{'userId': 436, 'movieId': 485, 'rating': 4.6, 'timestamp': 1746181259}\n",
      "5\n",
      "{'userId': 118, 'movieId': 401, 'rating': 0.8, 'timestamp': 1746181261}\n",
      "6\n",
      "{'userId': 192, 'movieId': 133, 'rating': 3.3, 'timestamp': 1746181265}\n",
      "7\n",
      "{'userId': 911, 'movieId': 109, 'rating': 3.9, 'timestamp': 1746181268}\n",
      "8\n",
      "{'userId': 940, 'movieId': 572, 'rating': 1.8, 'timestamp': 1746181273}\n",
      "9\n",
      "{'userId': 944, 'movieId': 895, 'rating': 1.7, 'timestamp': 1746181275}\n",
      "10\n",
      "{'userId': 503, 'movieId': 947, 'rating': 1.3, 'timestamp': 1746181280}\n",
      "11\n",
      "{'userId': 517, 'movieId': 267, 'rating': 0.7, 'timestamp': 1746181284}\n",
      "12\n",
      "{'userId': 296, 'movieId': 269, 'rating': 3.1, 'timestamp': 1746181288}\n",
      "13\n",
      "{'userId': 136, 'movieId': 982, 'rating': 4.9, 'timestamp': 1746181292}\n",
      "14\n",
      "{'userId': 872, 'movieId': 662, 'rating': 3.1, 'timestamp': 1746181296}\n",
      "15\n",
      "{'userId': 393, 'movieId': 548, 'rating': 2.3, 'timestamp': 1746181301}\n",
      "16\n",
      "{'userId': 700, 'movieId': 219, 'rating': 2.5, 'timestamp': 1746181304}\n",
      "17\n",
      "{'userId': 743, 'movieId': 358, 'rating': 2.4, 'timestamp': 1746181308}\n",
      "18\n",
      "{'userId': 952, 'movieId': 979, 'rating': 1.4, 'timestamp': 1746181311}\n",
      "19\n",
      "{'userId': 973, 'movieId': 684, 'rating': 2.8, 'timestamp': 1746181313}\n",
      "20\n",
      "{'userId': 577, 'movieId': 327, 'rating': 1.3, 'timestamp': 1746181317}\n",
      "21\n",
      "{'userId': 737, 'movieId': 549, 'rating': 1.8, 'timestamp': 1746181320}\n",
      "22\n",
      "{'userId': 490, 'movieId': 758, 'rating': 4.6, 'timestamp': 1746181322}\n",
      "23\n",
      "{'userId': 440, 'movieId': 817, 'rating': 1.5, 'timestamp': 1746181325}\n",
      "24\n",
      "{'userId': 952, 'movieId': 593, 'rating': 2.9, 'timestamp': 1746181329}\n",
      "25\n",
      "{'userId': 403, 'movieId': 382, 'rating': 3.1, 'timestamp': 1746181332}\n",
      "26\n",
      "{'userId': 221, 'movieId': 688, 'rating': 2.0, 'timestamp': 1746181337}\n",
      "27\n",
      "{'userId': 427, 'movieId': 440, 'rating': 3.1, 'timestamp': 1746181341}\n",
      "28\n",
      "{'userId': 782, 'movieId': 784, 'rating': 4.2, 'timestamp': 1746181345}\n",
      "29\n",
      "{'userId': 609, 'movieId': 247, 'rating': 3.0, 'timestamp': 1746181349}\n",
      "30\n",
      "{'userId': 750, 'movieId': 613, 'rating': 4.7, 'timestamp': 1746181352}\n",
      "31\n",
      "{'userId': 997, 'movieId': 570, 'rating': 1.1, 'timestamp': 1746181355}\n",
      "32\n",
      "{'userId': 987, 'movieId': 689, 'rating': 2.2, 'timestamp': 1746181357}\n"
     ]
    }
   ],
   "source": [
    "for msg in c:\n",
    "    process_msg(msg)"
   ]
  },
  {
   "cell_type": "code",
   "execution_count": null,
   "id": "70e0fd42-40f8-496f-a114-0ba438b90a27",
   "metadata": {},
   "outputs": [],
   "source": []
  }
 ],
 "metadata": {
  "kernelspec": {
   "display_name": "Python 3 (ipykernel)",
   "language": "python",
   "name": "python3"
  },
  "language_info": {
   "codemirror_mode": {
    "name": "ipython",
    "version": 3
   },
   "file_extension": ".py",
   "mimetype": "text/x-python",
   "name": "python",
   "nbconvert_exporter": "python",
   "pygments_lexer": "ipython3",
   "version": "3.10.12"
  }
 },
 "nbformat": 4,
 "nbformat_minor": 5
}
